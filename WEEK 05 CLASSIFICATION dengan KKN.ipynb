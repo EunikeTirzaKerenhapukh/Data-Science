{
 "cells": [
  {
   "cell_type": "markdown",
   "id": "professional-shirt",
   "metadata": {},
   "source": [
    "# CLASSIFICATION dengan KKN (K Nearest Neighbours)"
   ]
  },
  {
   "cell_type": "markdown",
   "id": "standing-family",
   "metadata": {},
   "source": [
    "Sumber : \n",
    "- https://www.youtube.com/watch?v=4zARMcgc7hA&ab_channel=IndonesiaBelajar"
   ]
  },
  {
   "cell_type": "markdown",
   "id": "numerical-headset",
   "metadata": {},
   "source": [
    "## K Nearest Neighbours\n",
    "- KKN merupakan sebuah model machine learning yang dapat digunakan untuk melakukan metode klasifikasi terhadap sekumpulan data berdasarkan pembelajaran data yang sudah terklasifikasikan sebelumnya. \n",
    "- KKN juga dapat digunakan untuk melakukan prediksi berdasarkan kedekatan karakterisik dengan sejumlah tetangga terdekat.\n",
    "- Prediksi yang dilakukan dapat diterapkan baik pada classification maupun regression tasks."
   ]
  },
  {
   "cell_type": "markdown",
   "id": "northern-horse",
   "metadata": {},
   "source": [
    "## SAMPLE DATASET"
   ]
  },
  {
   "cell_type": "markdown",
   "id": "dying-infrared",
   "metadata": {},
   "source": [
    "Langkah pertama adalah mempersiapkan sample data set yang berisi daftar tinggi, berat badan dan jenis kelamin yang ditampung dalam format pandas data frame. \n",
    "- Mengimport modul pandas data frame\n",
    "- Membuat variable sensus yang menampung data dictionary berisi daftar tinggi, berat badan dan jenis kelamin\n",
    "- Data-data ini kemudian akan dibentuk menjadi pandas data frame, hasil data yang sudah dibentuk menjadi pandas data frame ini kemudian ditampung ke dalam variable 'sensus_df'"
   ]
  },
  {
   "cell_type": "code",
   "execution_count": 44,
   "id": "gross-wedding",
   "metadata": {},
   "outputs": [
    {
     "data": {
      "text/html": [
       "<div>\n",
       "<style scoped>\n",
       "    .dataframe tbody tr th:only-of-type {\n",
       "        vertical-align: middle;\n",
       "    }\n",
       "\n",
       "    .dataframe tbody tr th {\n",
       "        vertical-align: top;\n",
       "    }\n",
       "\n",
       "    .dataframe thead th {\n",
       "        text-align: right;\n",
       "    }\n",
       "</style>\n",
       "<table border=\"1\" class=\"dataframe\">\n",
       "  <thead>\n",
       "    <tr style=\"text-align: right;\">\n",
       "      <th></th>\n",
       "      <th>tinggi</th>\n",
       "      <th>berat</th>\n",
       "      <th>gender</th>\n",
       "    </tr>\n",
       "  </thead>\n",
       "  <tbody>\n",
       "    <tr>\n",
       "      <th>0</th>\n",
       "      <td>158</td>\n",
       "      <td>64</td>\n",
       "      <td>pria</td>\n",
       "    </tr>\n",
       "    <tr>\n",
       "      <th>1</th>\n",
       "      <td>170</td>\n",
       "      <td>86</td>\n",
       "      <td>pria</td>\n",
       "    </tr>\n",
       "    <tr>\n",
       "      <th>2</th>\n",
       "      <td>183</td>\n",
       "      <td>84</td>\n",
       "      <td>pria</td>\n",
       "    </tr>\n",
       "    <tr>\n",
       "      <th>3</th>\n",
       "      <td>191</td>\n",
       "      <td>80</td>\n",
       "      <td>pria</td>\n",
       "    </tr>\n",
       "    <tr>\n",
       "      <th>4</th>\n",
       "      <td>155</td>\n",
       "      <td>49</td>\n",
       "      <td>wanita</td>\n",
       "    </tr>\n",
       "    <tr>\n",
       "      <th>5</th>\n",
       "      <td>163</td>\n",
       "      <td>59</td>\n",
       "      <td>wanita</td>\n",
       "    </tr>\n",
       "    <tr>\n",
       "      <th>6</th>\n",
       "      <td>180</td>\n",
       "      <td>67</td>\n",
       "      <td>wanita</td>\n",
       "    </tr>\n",
       "    <tr>\n",
       "      <th>7</th>\n",
       "      <td>158</td>\n",
       "      <td>54</td>\n",
       "      <td>wanita</td>\n",
       "    </tr>\n",
       "    <tr>\n",
       "      <th>8</th>\n",
       "      <td>178</td>\n",
       "      <td>67</td>\n",
       "      <td>wanita</td>\n",
       "    </tr>\n",
       "  </tbody>\n",
       "</table>\n",
       "</div>"
      ],
      "text/plain": [
       "   tinggi  berat  gender\n",
       "0     158     64    pria\n",
       "1     170     86    pria\n",
       "2     183     84    pria\n",
       "3     191     80    pria\n",
       "4     155     49  wanita\n",
       "5     163     59  wanita\n",
       "6     180     67  wanita\n",
       "7     158     54  wanita\n",
       "8     178     67  wanita"
      ]
     },
     "execution_count": 44,
     "metadata": {},
     "output_type": "execute_result"
    }
   ],
   "source": [
    "import pandas as pd\n",
    "\n",
    "sensus = {\n",
    "    'tinggi': [158, 170, 183, 191, 155, 163, 180, 158, 178],\n",
    "    'berat': [64,86, 84, 80, 49, 59, 67, 54, 67],\n",
    "    'gender': ['pria','pria','pria','pria','wanita','wanita','wanita','wanita','wanita',]\n",
    "}\n",
    "\n",
    "sensus_df = pd.DataFrame(sensus)\n",
    "sensus_df"
   ]
  },
  {
   "cell_type": "markdown",
   "id": "incomplete-hello",
   "metadata": {},
   "source": [
    "## VISUALISASI DATA "
   ]
  },
  {
   "cell_type": "markdown",
   "id": "early-contest",
   "metadata": {},
   "source": [
    "Pada tahap ini, saya akan melakukan visualisasi data terhadap data sebelumnya ke dalam scatter plot. Dimana sumbu x akan berasosiasi dengan tinggi badan dan sumbu y akan berasosiasi dengan berat badan."
   ]
  },
  {
   "cell_type": "markdown",
   "id": "turned-netherlands",
   "metadata": {},
   "source": [
    "- Pertama, import modul maplotlibnya as plt\n",
    "- Kemudian membentuk subplots dimana dapat menangkap object figure dan axesnya\n",
    "- Kemudian looping data sensus tersebut, dimana 'sensus_df' di groupby berdasarkan 'gender'nya. \n",
    "- d ini akan berisi sekumpulan baris data dari kelompok jenis kelamin tertentu\n",
    "- Memanggil ax.scatter dimana sumbu x berasosiasi dengan tinggi dan sumbu y  berasosiasi dengan berat badan. "
   ]
  },
  {
   "cell_type": "markdown",
   "id": "administrative-decision",
   "metadata": {},
   "source": [
    "Pada plt.legend terdapat parameter loc yang berfungsi menentukan lokasi dari legendnya, saya membuat location legend ini di lower right, berarti posisinya di kanan bawah figure. "
   ]
  },
  {
   "cell_type": "code",
   "execution_count": 45,
   "id": "detailed-onion",
   "metadata": {},
   "outputs": [
    {
     "data": {
      "image/png": "[encoded data removed]",
      "text/plain": [
       "<Figure size 432x288 with 1 Axes>"
      ]
     },
     "metadata": {
      "needs_background": "light"
     },
     "output_type": "display_data"
    }
   ],
   "source": [
    "import matplotlib.pyplot as plt\n",
    "\n",
    "fig, ax = plt.subplots()\n",
    "for gender, d in sensus_df.groupby('gender'):\n",
    "    ax.scatter(d['tinggi'], d['berat'],label=gender)\n",
    "    \n",
    "plt.legend(loc='lower right')\n",
    "plt.title('Sebaran Data Tinggi Badan, Berat Badan, dan Jenis Kelamin')\n",
    "plt.xlabel('Tinggi Badan (cm)')\n",
    "plt.ylabel('Berat Badan (kg)')\n",
    "plt.grid(True)\n",
    "plt.show()"
   ]
  },
  {
   "cell_type": "markdown",
   "id": "industrial-wrist",
   "metadata": {},
   "source": [
    "# CLASSIFICATION dengan KKN"
   ]
  },
  {
   "cell_type": "markdown",
   "id": "handmade-november",
   "metadata": {},
   "source": [
    "## PREPROCESSING DATASET"
   ]
  },
  {
   "cell_type": "markdown",
   "id": "knowing-chaos",
   "metadata": {},
   "source": [
    "- Pada variable X_train berisi sekumpulan data tinggi dan berat badan dalam bentuk numpy array. X_train ini akan dijadikan sebagai sekumpulan features untuk training set.\n",
    "- Pada variable y_train berisi sekumpulan data gender yang dikonversi ke dalam bentuk numpy array. y_train ini yang akan dijadikan sebagai sekumpulan target untuk training set."
   ]
  },
  {
   "cell_type": "markdown",
   "id": "appropriate-victim",
   "metadata": {},
   "source": [
    "Jika dilihat pada output kode dibawah ini, X_train sudah dalam bentuk format array 2 dimensi dan tipe datanya juga sudah dalam bentuk numerik. Hal ini berarti X_train ini sudah siap digunakan untuk proses training. Sedangkan tipe data untuk y_train adalah string, hal ini akan mengakibatkan adanya kendala nanti."
   ]
  },
  {
   "cell_type": "code",
   "execution_count": 46,
   "id": "hazardous-encounter",
   "metadata": {},
   "outputs": [
    {
     "name": "stdout",
     "output_type": "stream",
     "text": [
      "X_train:\n",
      "[[158  64]\n",
      " [170  86]\n",
      " [183  84]\n",
      " [191  80]\n",
      " [155  49]\n",
      " [163  59]\n",
      " [180  67]\n",
      " [158  54]\n",
      " [178  67]]\n",
      "\n",
      "y_train:['pria' 'pria' 'pria' 'pria' 'wanita' 'wanita' 'wanita' 'wanita' 'wanita']\n"
     ]
    }
   ],
   "source": [
    "import numpy as np\n",
    "\n",
    "X_train = np.array(sensus_df[['tinggi','berat']])\n",
    "y_train = np.array(sensus_df['gender'])\n",
    "\n",
    "print(f'X_train:\\n{X_train}\\n')\n",
    "print(f'y_train:{y_train}')"
   ]
  },
  {
   "cell_type": "markdown",
   "id": "weekly-syndication",
   "metadata": {},
   "source": [
    "Oleh karena itu, saya akan mengkonversi y_train ke dalam tipe data numerik/numerik biner dengan menggunakan Label Binarizer.\n",
    "- Pertama-tama, seperti biasa import terlebih dahulu Label Binarizer\n",
    "- Kemudian bentuk objek LaberBinarizer, objek ini ditampung dalam variable 'lb'\n",
    "- Kemudian lakukan transformasi data yang kemudian ditampung dalam variable y_train\n",
    "Terdapat 2 nilai dari hasil output kode dibawah ini yaitu 0 dan 1.\n",
    "- 0 merepresentasikan 'pria'\n",
    "- 1 merepresentasikan 'wanita'"
   ]
  },
  {
   "cell_type": "code",
   "execution_count": 47,
   "id": "widespread-desire",
   "metadata": {},
   "outputs": [
    {
     "name": "stdout",
     "output_type": "stream",
     "text": [
      "y_train:\n",
      "[[0]\n",
      " [0]\n",
      " [0]\n",
      " [0]\n",
      " [1]\n",
      " [1]\n",
      " [1]\n",
      " [1]\n",
      " [1]]\n"
     ]
    }
   ],
   "source": [
    "from sklearn.preprocessing import LabelBinarizer\n",
    "\n",
    "lb = LabelBinarizer()\n",
    "y_train = lb.fit_transform(y_train)\n",
    "print(f'y_train:\\n{y_train}')"
   ]
  },
  {
   "cell_type": "markdown",
   "id": "average-leone",
   "metadata": {},
   "source": [
    "Pada tahap ini, saya akan memflattenkan y_train menjadi 1 dimensi saja. "
   ]
  },
  {
   "cell_type": "code",
   "execution_count": 48,
   "id": "dress-dependence",
   "metadata": {},
   "outputs": [
    {
     "name": "stdout",
     "output_type": "stream",
     "text": [
      "y_train:[0 0 0 0 1 1 1 1 1]\n"
     ]
    }
   ],
   "source": [
    "y_train = y_train.flatten()\n",
    "print(f'y_train:{y_train}')"
   ]
  },
  {
   "cell_type": "markdown",
   "id": "electronic-obligation",
   "metadata": {},
   "source": [
    "## TRAINING KKN CLASSIFICATION MODEL"
   ]
  },
  {
   "cell_type": "markdown",
   "id": "excessive-calculation",
   "metadata": {},
   "source": [
    "- Pada tahap ini, import terlebih dahulu KNeighborsClassifiernya. \n",
    "- Parameter K berguna untuk menentukan jumlah tetangga terdekat yang akan dilibatkan untuk proses prediksi. Saya set parameter K = 3, yang berarti jumlah tetangga terdekatnya adalah 3\n",
    "- Membentuk objek KNeighborsClassifier yang didalamnya terdapat parameter n_neighbors yang diberi nilai K, dan objek yang terbentuk ini ditampung ke dalam variabel 'model'\n",
    "- Kemudian ditraining dengan memanfaatkan X_train dan y_train (model.fit)"
   ]
  },
  {
   "cell_type": "code",
   "execution_count": 49,
   "id": "functional-dayton",
   "metadata": {},
   "outputs": [
    {
     "data": {
      "text/plain": [
       "KNeighborsClassifier(n_neighbors=3)"
      ]
     },
     "execution_count": 49,
     "metadata": {},
     "output_type": "execute_result"
    }
   ],
   "source": [
    "from sklearn.neighbors import KNeighborsClassifier\n",
    "\n",
    "K = 3\n",
    "model = KNeighborsClassifier(n_neighbors=K)\n",
    "model.fit(X_train,y_train)"
   ]
  },
  {
   "cell_type": "markdown",
   "id": "intelligent-judges",
   "metadata": {},
   "source": [
    "## PREDIKSI JENIS KELAMIN"
   ]
  },
  {
   "cell_type": "markdown",
   "id": "august-southeast",
   "metadata": {},
   "source": [
    "Setelah KKN Classifiernya sudah ditraining, maka dapat digunakan untuk memprediksi gender berdasarkan data tinggi badan dan berat badan. \n",
    "Untuk Scikit Learn, sekumpulan data feature yang bisa digunakan harus dalam format numpy array dengan ukuran 2 dimensi. Untuk baris akan berkolerasi dengan jumlah data sedangkan untuk kolom akan berkolerasi dengan jumlah featuresnya. "
   ]
  },
  {
   "cell_type": "code",
   "execution_count": 50,
   "id": "narrow-stick",
   "metadata": {},
   "outputs": [
    {
     "data": {
      "text/plain": [
       "array([[155,  70]])"
      ]
     },
     "execution_count": 50,
     "metadata": {},
     "output_type": "execute_result"
    }
   ],
   "source": [
    "tinggi_badan = 155\n",
    "berat_badan = 70\n",
    "X_new = np.array([tinggi_badan,berat_badan]).reshape(1,-1)\n",
    "X_new"
   ]
  },
  {
   "cell_type": "code",
   "execution_count": 51,
   "id": "grave-surrey",
   "metadata": {},
   "outputs": [
    {
     "data": {
      "text/plain": [
       "array([1])"
      ]
     },
     "execution_count": 51,
     "metadata": {},
     "output_type": "execute_result"
    }
   ],
   "source": [
    "y_new = model.predict(X_new)\n",
    "y_new"
   ]
  },
  {
   "cell_type": "code",
   "execution_count": 52,
   "id": "automated-bandwidth",
   "metadata": {},
   "outputs": [
    {
     "data": {
      "text/plain": [
       "array(['wanita'], dtype='<U6')"
      ]
     },
     "execution_count": 52,
     "metadata": {},
     "output_type": "execute_result"
    }
   ],
   "source": [
    "lb.inverse_transform(y_new)"
   ]
  },
  {
   "cell_type": "markdown",
   "id": "immediate-notion",
   "metadata": {},
   "source": [
    "## VISUALISASI NEAREST NEIGHBOURS"
   ]
  },
  {
   "cell_type": "markdown",
   "id": "described-variation",
   "metadata": {},
   "source": [
    "Pada tahap ini,hal yang perlu dilakukan adalah memanggil subplots untuk mendapatkan objek figure dan axes. Kemudian menampilkan kembali data point dari dataset yang dimiliki. "
   ]
  },
  {
   "cell_type": "markdown",
   "id": "greenhouse-profit",
   "metadata": {},
   "source": [
    "Jika kita lihat output dari kode dibawah ini, maka posisi marker misterius ini berada dekat 3 marker yaitu 1 marker biru (pria) dan 2 marker orange (wanita) sehingga dapat diprediksi bahwa marker misterius ini adalah wanita."
   ]
  },
  {
   "cell_type": "code",
   "execution_count": 53,
   "id": "conscious-china",
   "metadata": {},
   "outputs": [
    {
     "data": {
      "image/png": "[encoded data removed]",
      "text/plain": [
       "<Figure size 432x288 with 1 Axes>"
      ]
     },
     "metadata": {
      "needs_background": "light"
     },
     "output_type": "display_data"
    }
   ],
   "source": [
    "fig, ax = plt.subplots()\n",
    "for gender, d in sensus_df.groupby('gender'):\n",
    "    ax.scatter(d['tinggi'],d['berat'], label=gender)\n",
    "\n",
    "plt.scatter(tinggi_badan,\n",
    "           berat_badan,\n",
    "           marker='s',\n",
    "           color='red',\n",
    "           label='misterius')\n",
    "\n",
    "plt.legend(loc='upper left')\n",
    "plt.title('Sebaran Data Tinggi Badan, Berat Badan, dan Jenis Kelamin')\n",
    "plt.xlabel('Tinggi Badan (cm)')\n",
    "plt.ylabel('Berat Badan (kg)')\n",
    "plt.grid(True)\n",
    "plt.show()"
   ]
  },
  {
   "cell_type": "markdown",
   "id": "challenging-bikini",
   "metadata": {},
   "source": [
    "## KALKULASI DISTANCE (EUCLIDEAN DISTANCE)"
   ]
  },
  {
   "cell_type": "markdown",
   "id": "subsequent-slide",
   "metadata": {},
   "source": [
    "Euclidean Distance adalah perhitungan jarak dari 2 buah titik dalam Euclidean space. Euclidean ini berkaitan dengan Teorema Phytagoras dan biasanya diterapkan pada 1, 2 dan 3 dimensi. Tapi juga sederhana jika diterapkan pada dimensi yang lebih tinggi.\n",
    "\n",
    "Sumber : \n",
    "- https://blogs.itb.ac.id/anugraha/2014/09/10/teori-pengukuran-jarak/"
   ]
  },
  {
   "cell_type": "code",
   "execution_count": 54,
   "id": "golden-verse",
   "metadata": {},
   "outputs": [
    {
     "data": {
      "text/plain": [
       "array([155,  70])"
      ]
     },
     "execution_count": 54,
     "metadata": {},
     "output_type": "execute_result"
    }
   ],
   "source": [
    "misterius = np.array([tinggi_badan, berat_badan])\n",
    "misterius"
   ]
  },
  {
   "cell_type": "code",
   "execution_count": 55,
   "id": "brazilian-airplane",
   "metadata": {},
   "outputs": [
    {
     "data": {
      "text/plain": [
       "array([[158,  64],\n",
       "       [170,  86],\n",
       "       [183,  84],\n",
       "       [191,  80],\n",
       "       [155,  49],\n",
       "       [163,  59],\n",
       "       [180,  67],\n",
       "       [158,  54],\n",
       "       [178,  67]], dtype=int64)"
      ]
     },
     "execution_count": 55,
     "metadata": {},
     "output_type": "execute_result"
    }
   ],
   "source": [
    "X_train"
   ]
  },
  {
   "cell_type": "code",
   "execution_count": 56,
   "id": "dedicated-tulsa",
   "metadata": {},
   "outputs": [
    {
     "data": {
      "text/plain": [
       "[6.708203932499369,\n",
       " 21.93171219946131,\n",
       " 31.304951684997057,\n",
       " 37.36308338453881,\n",
       " 21.0,\n",
       " 13.601470508735444,\n",
       " 25.179356624028344,\n",
       " 16.278820596099706,\n",
       " 23.194827009486403]"
      ]
     },
     "execution_count": 56,
     "metadata": {},
     "output_type": "execute_result"
    }
   ],
   "source": [
    "from scipy.spatial.distance import euclidean\n",
    "\n",
    "data_jarak = [euclidean(misterius, d) for d in X_train]\n",
    "data_jarak"
   ]
  },
  {
   "cell_type": "code",
   "execution_count": 57,
   "id": "median-apartment",
   "metadata": {},
   "outputs": [
    {
     "data": {
      "text/html": [
       "<div>\n",
       "<style scoped>\n",
       "    .dataframe tbody tr th:only-of-type {\n",
       "        vertical-align: middle;\n",
       "    }\n",
       "\n",
       "    .dataframe tbody tr th {\n",
       "        vertical-align: top;\n",
       "    }\n",
       "\n",
       "    .dataframe thead th {\n",
       "        text-align: right;\n",
       "    }\n",
       "</style>\n",
       "<table border=\"1\" class=\"dataframe\">\n",
       "  <thead>\n",
       "    <tr style=\"text-align: right;\">\n",
       "      <th></th>\n",
       "      <th>tinggi</th>\n",
       "      <th>berat</th>\n",
       "      <th>gender</th>\n",
       "      <th>jarak</th>\n",
       "    </tr>\n",
       "  </thead>\n",
       "  <tbody>\n",
       "    <tr>\n",
       "      <th>0</th>\n",
       "      <td>158</td>\n",
       "      <td>64</td>\n",
       "      <td>pria</td>\n",
       "      <td>6.708204</td>\n",
       "    </tr>\n",
       "    <tr>\n",
       "      <th>5</th>\n",
       "      <td>163</td>\n",
       "      <td>59</td>\n",
       "      <td>wanita</td>\n",
       "      <td>13.601471</td>\n",
       "    </tr>\n",
       "    <tr>\n",
       "      <th>7</th>\n",
       "      <td>158</td>\n",
       "      <td>54</td>\n",
       "      <td>wanita</td>\n",
       "      <td>16.278821</td>\n",
       "    </tr>\n",
       "    <tr>\n",
       "      <th>4</th>\n",
       "      <td>155</td>\n",
       "      <td>49</td>\n",
       "      <td>wanita</td>\n",
       "      <td>21.000000</td>\n",
       "    </tr>\n",
       "    <tr>\n",
       "      <th>1</th>\n",
       "      <td>170</td>\n",
       "      <td>86</td>\n",
       "      <td>pria</td>\n",
       "      <td>21.931712</td>\n",
       "    </tr>\n",
       "    <tr>\n",
       "      <th>8</th>\n",
       "      <td>178</td>\n",
       "      <td>67</td>\n",
       "      <td>wanita</td>\n",
       "      <td>23.194827</td>\n",
       "    </tr>\n",
       "    <tr>\n",
       "      <th>6</th>\n",
       "      <td>180</td>\n",
       "      <td>67</td>\n",
       "      <td>wanita</td>\n",
       "      <td>25.179357</td>\n",
       "    </tr>\n",
       "    <tr>\n",
       "      <th>2</th>\n",
       "      <td>183</td>\n",
       "      <td>84</td>\n",
       "      <td>pria</td>\n",
       "      <td>31.304952</td>\n",
       "    </tr>\n",
       "    <tr>\n",
       "      <th>3</th>\n",
       "      <td>191</td>\n",
       "      <td>80</td>\n",
       "      <td>pria</td>\n",
       "      <td>37.363083</td>\n",
       "    </tr>\n",
       "  </tbody>\n",
       "</table>\n",
       "</div>"
      ],
      "text/plain": [
       "   tinggi  berat  gender      jarak\n",
       "0     158     64    pria   6.708204\n",
       "5     163     59  wanita  13.601471\n",
       "7     158     54  wanita  16.278821\n",
       "4     155     49  wanita  21.000000\n",
       "1     170     86    pria  21.931712\n",
       "8     178     67  wanita  23.194827\n",
       "6     180     67  wanita  25.179357\n",
       "2     183     84    pria  31.304952\n",
       "3     191     80    pria  37.363083"
      ]
     },
     "execution_count": 57,
     "metadata": {},
     "output_type": "execute_result"
    }
   ],
   "source": [
    "sensus_df['jarak']= data_jarak\n",
    "sensus_df.sort_values(['jarak'])"
   ]
  },
  {
   "cell_type": "markdown",
   "id": "rubber-multiple",
   "metadata": {},
   "source": [
    "## EVALUASI KNN CLASSIFICATION MODEL"
   ]
  },
  {
   "cell_type": "markdown",
   "id": "authentic-driver",
   "metadata": {},
   "source": [
    "### TESTING SET"
   ]
  },
  {
   "cell_type": "markdown",
   "id": "pointed-nurse",
   "metadata": {},
   "source": [
    "Menyiapkan testing set yang terdiri dari 4 data point. \n",
    "Pada X_test terdapat 4 baris dan 2 kolom sebagai features.\n",
    "Pada y_test terdapat 4 buah data yang terdiri dari 2 pria dan 2 wanita sebagai target yang sudah ditransform ke tipe data numerik biner. Kemudian y_test ini di flattenkan untuk menjadi 1 dimensi saja. "
   ]
  },
  {
   "cell_type": "code",
   "execution_count": 58,
   "id": "collectible-owner",
   "metadata": {},
   "outputs": [
    {
     "name": "stdout",
     "output_type": "stream",
     "text": [
      "X_test:\n",
      "[[168  65]\n",
      " [180  96]\n",
      " [160  52]\n",
      " [169  67]]\n",
      "\n",
      "y_test:[0 0 1 1]\n"
     ]
    }
   ],
   "source": [
    "X_test = np.array([[168,65],[180,96],[160,52],[169,67]])\n",
    "y_test = lb.transform(np.array(['pria','pria','wanita','wanita'])).flatten()\n",
    "\n",
    "print(f'X_test:\\n{X_test}\\n')\n",
    "print(f'y_test:{y_test}')"
   ]
  },
  {
   "cell_type": "markdown",
   "id": "third-marshall",
   "metadata": {},
   "source": [
    "### PREDIKSI TERHADAP TESTING SET"
   ]
  },
  {
   "cell_type": "markdown",
   "id": "looking-seller",
   "metadata": {},
   "source": [
    "Pada tahap ini adalah melakukan proses prediksi terhadap testing set dengan memanfaatkan KKN Classifier yang sudah ditraining sebelumnya."
   ]
  },
  {
   "cell_type": "code",
   "execution_count": 59,
   "id": "diagnostic-passport",
   "metadata": {},
   "outputs": [
    {
     "data": {
      "text/plain": [
       "array([1, 0, 1, 1])"
      ]
     },
     "execution_count": 59,
     "metadata": {},
     "output_type": "execute_result"
    }
   ],
   "source": [
    "y_pred = model.predict(X_test)\n",
    "y_pred"
   ]
  },
  {
   "cell_type": "markdown",
   "id": "crude-listing",
   "metadata": {},
   "source": [
    "## ACCURACY "
   ]
  },
  {
   "cell_type": "markdown",
   "id": "unlimited-withdrawal",
   "metadata": {},
   "source": [
    "Accuracy adalah akurasi pada instance pada training test yang berhasil diprediksi secara tepat. "
   ]
  },
  {
   "cell_type": "markdown",
   "id": "forbidden-penny",
   "metadata": {},
   "source": [
    "**True positive** : sesuatu yang bernilai positif telah dengan tepat diprediksi sebagai positif oleh model. Contohnya adalah model sudah memprediksi secara tepat data pria sebagai pria, dan data wanita sebagai wanita.  \n",
    "\n",
    "**True negative** : sesuatu yang bernilai negatif telah dengan tepat diprediksi sebagai negatif oleh model. Contohnya adalah model sudah memprediksi secara tepat data wanita sebagai bukan pria, dan data pria sebagai bukan wanita.\n",
    "\n",
    "**False Positive**: sesuatu yang bernilai negatif telah keliru diprediksi sebagai positif oleh model. Contohnya adalah model sudah memprediksi secara keliru data wanita sebagai pria, dan data pria sebagai wanita.  \n",
    "\n",
    "**False Negative** : sesuatu yang bernilai positif telah keliru diprediksi sebagai negatif oleh model.Contohnya adalah model sudah memprediksi secara keliru data pria sebagai bukan pria, dan data wanita sebagai bukan wanita. "
   ]
  },
  {
   "cell_type": "code",
   "execution_count": 60,
   "id": "korean-message",
   "metadata": {},
   "outputs": [
    {
     "name": "stdout",
     "output_type": "stream",
     "text": [
      "Accuracy:0.75\n"
     ]
    }
   ],
   "source": [
    "from sklearn.metrics import accuracy_score\n",
    "\n",
    "acc = accuracy_score(y_test, y_pred)\n",
    "\n",
    "print(f'Accuracy:{acc}')"
   ]
  },
  {
   "cell_type": "markdown",
   "id": "starting-happiness",
   "metadata": {},
   "source": [
    "## PRECISION"
   ]
  },
  {
   "cell_type": "markdown",
   "id": "resident-requirement",
   "metadata": {},
   "source": [
    "Precision adalah proporsi dari testing set yang diprediksi sebagai positif oleh model yang memang benar-benar positif.  "
   ]
  },
  {
   "cell_type": "code",
   "execution_count": 61,
   "id": "statutory-netherlands",
   "metadata": {},
   "outputs": [
    {
     "name": "stdout",
     "output_type": "stream",
     "text": [
      "Preccision:0.6666666666666666\n"
     ]
    }
   ],
   "source": [
    "from sklearn.metrics import precision_score\n",
    "\n",
    "prec = precision_score(y_test,y_pred)\n",
    "\n",
    "print(f'Preccision:{prec}')"
   ]
  },
  {
   "cell_type": "markdown",
   "id": "auburn-hamburg",
   "metadata": {},
   "source": [
    "## RECALL"
   ]
  },
  {
   "cell_type": "markdown",
   "id": "acting-joyce",
   "metadata": {},
   "source": [
    "Recall adalah proporsi dari data pada testing test kita yang benar-benar positif yang diprediksi positif oleh model kita. "
   ]
  },
  {
   "cell_type": "code",
   "execution_count": 62,
   "id": "separated-immigration",
   "metadata": {},
   "outputs": [
    {
     "name": "stdout",
     "output_type": "stream",
     "text": [
      "Recall:1.0\n"
     ]
    }
   ],
   "source": [
    "from sklearn.metrics import recall_score\n",
    "\n",
    "rec = recall_score(y_test, y_pred)\n",
    "\n",
    "print(f'Recall:{rec}')"
   ]
  },
  {
   "cell_type": "markdown",
   "id": "quiet-horizontal",
   "metadata": {},
   "source": [
    "## F1 SCORE"
   ]
  },
  {
   "cell_type": "markdown",
   "id": "confidential-scholar",
   "metadata": {},
   "source": [
    "F1 score adalah nilai rata-rata harmonic dari precision dan recall"
   ]
  },
  {
   "cell_type": "code",
   "execution_count": 63,
   "id": "corporate-holder",
   "metadata": {},
   "outputs": [
    {
     "name": "stdout",
     "output_type": "stream",
     "text": [
      "F1-score:0.8\n"
     ]
    }
   ],
   "source": [
    "from sklearn.metrics import f1_score\n",
    "\n",
    "f1= f1_score(y_test, y_pred)\n",
    "\n",
    "print(f'F1-score:{f1}')"
   ]
  },
  {
   "cell_type": "markdown",
   "id": "isolated-development",
   "metadata": {},
   "source": [
    "## CLASSIFICATION REPORT"
   ]
  },
  {
   "cell_type": "markdown",
   "id": "oriented-greene",
   "metadata": {},
   "source": []
  },
  {
   "cell_type": "code",
   "execution_count": 64,
   "id": "smaller-share",
   "metadata": {},
   "outputs": [
    {
     "name": "stdout",
     "output_type": "stream",
     "text": [
      "Classification Report:\n",
      "              precision    recall  f1-score   support\n",
      "\n",
      "           0       1.00      0.50      0.67         2\n",
      "           1       0.67      1.00      0.80         2\n",
      "\n",
      "    accuracy                           0.75         4\n",
      "   macro avg       0.83      0.75      0.73         4\n",
      "weighted avg       0.83      0.75      0.73         4\n",
      "\n"
     ]
    }
   ],
   "source": [
    "from sklearn.metrics import classification_report\n",
    "\n",
    "cls_report = classification_report(y_test, y_pred)\n",
    "\n",
    "print(f'Classification Report:\\n{cls_report}')"
   ]
  },
  {
   "cell_type": "markdown",
   "id": "established-organization",
   "metadata": {},
   "source": [
    "## MATTHEWS CORRELATION COEFFIECIENT (MCC)"
   ]
  },
  {
   "cell_type": "markdown",
   "id": "brave-married",
   "metadata": {},
   "source": [
    "- MCC adalah alternatif untuk F1 score untuk keperluan pengumpulan performa dari binary classifier\n",
    "- Nilai tertingginya adalah 1\n",
    "- Kalo prediksinya dilakukan secara random/acak maka nilai scorenya adalah 0, atau model classifiernya benar-benar ngaco maka nilainya ada -1 \n",
    "- Rentang nilainya dari -1 (kondisi terburuk) hingga 1 (kondisi terbaik) "
   ]
  },
  {
   "cell_type": "code",
   "execution_count": 65,
   "id": "stuffed-breeding",
   "metadata": {},
   "outputs": [
    {
     "name": "stdout",
     "output_type": "stream",
     "text": [
      "MCC:0.5773502691896258\n"
     ]
    }
   ],
   "source": [
    "from sklearn.metrics import matthews_corrcoef\n",
    "\n",
    "mcc = matthews_corrcoef(y_test, y_pred)\n",
    "\n",
    "print(f'MCC:{mcc}')"
   ]
  },
  {
   "cell_type": "code",
   "execution_count": null,
   "id": "current-storm",
   "metadata": {},
   "outputs": [],
   "source": []
  }
 ],
 "metadata": {
  "kernelspec": {
   "display_name": "Python 3",
   "language": "python",
   "name": "python3"
  },
  "language_info": {
   "codemirror_mode": {
    "name": "ipython",
    "version": 3
   },
   "file_extension": ".py",
   "mimetype": "text/x-python",
   "name": "python",
   "nbconvert_exporter": "python",
   "pygments_lexer": "ipython3",
   "version": "3.7.10"
  }
 },
 "nbformat": 4,
 "nbformat_minor": 5
}

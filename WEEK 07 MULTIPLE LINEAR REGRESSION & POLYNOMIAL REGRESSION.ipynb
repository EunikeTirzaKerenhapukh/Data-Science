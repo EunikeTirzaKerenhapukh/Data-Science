{
 "cells": [
  {
   "cell_type": "markdown",
   "id": "british-irish",
   "metadata": {},
   "source": [
    "# MULTIPLE LINEAR REGRESSION & POLYNOMIAL REGRESSION"
   ]
  },
  {
   "cell_type": "markdown",
   "id": "corrected-equity",
   "metadata": {},
   "source": [
    "Sumber : \n",
    "- https://www.youtube.com/watch?v=nWJUJenAyB8&ab_channel=IndonesiaBelajar"
   ]
  },
  {
   "cell_type": "markdown",
   "id": "facial-thickness",
   "metadata": {},
   "source": [
    "Multiple Linear regression dan polynomial regression merupakan pengembangan dari model simple linear regression. "
   ]
  },
  {
   "cell_type": "markdown",
   "id": "creative-diving",
   "metadata": {},
   "source": [
    "## SAMPLE DATASET "
   ]
  },
  {
   "cell_type": "markdown",
   "id": "dominican-essay",
   "metadata": {},
   "source": [
    "### TRAINING DATASET"
   ]
  },
  {
   "cell_type": "markdown",
   "id": "executed-stanford",
   "metadata": {},
   "source": [
    "Mempersiapkan dataset untuk digunakan yaitu dataset pizza dengan kolom baru yaitu 'n_topping' yang menunjukkan jumlah topping. Dataset ini terdiri dari diameter, jumlah topping dan harga dari sebuah pizza yang akan ditampung dalam format dataframe. "
   ]
  },
  {
   "cell_type": "markdown",
   "id": "periodic-stable",
   "metadata": {},
   "source": [
    "Langkah pertama adalah mengimport modul pandas, kemudian menyiapkan dataset yang dibentuk dari suatu dictionary yang terdapat 3 keys didalamnya yaitu diameter, n_topping dan harga. Keys ini menampung sejumlah bilangan. Setelah itu, kita masukkan data pizza ini menjadi sebuah data frame yang kemudian dimasukkan ke dalam suatu variable 'train_pizza_df'."
   ]
  },
  {
   "cell_type": "code",
   "execution_count": 17,
   "id": "altered-essay",
   "metadata": {},
   "outputs": [
    {
     "data": {
      "text/html": [
       "<div>\n",
       "<style scoped>\n",
       "    .dataframe tbody tr th:only-of-type {\n",
       "        vertical-align: middle;\n",
       "    }\n",
       "\n",
       "    .dataframe tbody tr th {\n",
       "        vertical-align: top;\n",
       "    }\n",
       "\n",
       "    .dataframe thead th {\n",
       "        text-align: right;\n",
       "    }\n",
       "</style>\n",
       "<table border=\"1\" class=\"dataframe\">\n",
       "  <thead>\n",
       "    <tr style=\"text-align: right;\">\n",
       "      <th></th>\n",
       "      <th>diameter</th>\n",
       "      <th>n_topping</th>\n",
       "      <th>harga</th>\n",
       "    </tr>\n",
       "  </thead>\n",
       "  <tbody>\n",
       "    <tr>\n",
       "      <th>0</th>\n",
       "      <td>6</td>\n",
       "      <td>2</td>\n",
       "      <td>7.0</td>\n",
       "    </tr>\n",
       "    <tr>\n",
       "      <th>1</th>\n",
       "      <td>8</td>\n",
       "      <td>1</td>\n",
       "      <td>9.0</td>\n",
       "    </tr>\n",
       "    <tr>\n",
       "      <th>2</th>\n",
       "      <td>10</td>\n",
       "      <td>0</td>\n",
       "      <td>13.0</td>\n",
       "    </tr>\n",
       "    <tr>\n",
       "      <th>3</th>\n",
       "      <td>14</td>\n",
       "      <td>2</td>\n",
       "      <td>17.5</td>\n",
       "    </tr>\n",
       "    <tr>\n",
       "      <th>4</th>\n",
       "      <td>18</td>\n",
       "      <td>0</td>\n",
       "      <td>18.0</td>\n",
       "    </tr>\n",
       "  </tbody>\n",
       "</table>\n",
       "</div>"
      ],
      "text/plain": [
       "   diameter  n_topping  harga\n",
       "0         6          2    7.0\n",
       "1         8          1    9.0\n",
       "2        10          0   13.0\n",
       "3        14          2   17.5\n",
       "4        18          0   18.0"
      ]
     },
     "execution_count": 17,
     "metadata": {},
     "output_type": "execute_result"
    }
   ],
   "source": [
    "import pandas as pd \n",
    "\n",
    "pizza = {'diameter': [6,8,10,14,18],\n",
    "        'n_topping':[2,1,0,2,0],\n",
    "        'harga':[7,9,13,17.5,18]}\n",
    "\n",
    "train_pizza_df = pd.DataFrame(pizza)\n",
    "train_pizza_df"
   ]
  },
  {
   "cell_type": "markdown",
   "id": "latin-undergraduate",
   "metadata": {},
   "source": [
    "## TESTING DATASET"
   ]
  },
  {
   "cell_type": "markdown",
   "id": "invisible-water",
   "metadata": {},
   "source": [
    "Kemudian langkah selanjutnya adalah membuat testing dataset yaitu pizza dengan data-data yang berbeda. Disini kita akan menentukan harga pizza berdasarkan diameter dan n_topping. Sehingga diameter dan n_topping menjadi features dan harga menjadi target. "
   ]
  },
  {
   "cell_type": "code",
   "execution_count": 18,
   "id": "intended-observation",
   "metadata": {},
   "outputs": [
    {
     "data": {
      "text/html": [
       "<div>\n",
       "<style scoped>\n",
       "    .dataframe tbody tr th:only-of-type {\n",
       "        vertical-align: middle;\n",
       "    }\n",
       "\n",
       "    .dataframe tbody tr th {\n",
       "        vertical-align: top;\n",
       "    }\n",
       "\n",
       "    .dataframe thead th {\n",
       "        text-align: right;\n",
       "    }\n",
       "</style>\n",
       "<table border=\"1\" class=\"dataframe\">\n",
       "  <thead>\n",
       "    <tr style=\"text-align: right;\">\n",
       "      <th></th>\n",
       "      <th>diameter</th>\n",
       "      <th>n_topping</th>\n",
       "      <th>harga</th>\n",
       "    </tr>\n",
       "  </thead>\n",
       "  <tbody>\n",
       "    <tr>\n",
       "      <th>0</th>\n",
       "      <td>8</td>\n",
       "      <td>2</td>\n",
       "      <td>11.0</td>\n",
       "    </tr>\n",
       "    <tr>\n",
       "      <th>1</th>\n",
       "      <td>9</td>\n",
       "      <td>0</td>\n",
       "      <td>8.5</td>\n",
       "    </tr>\n",
       "    <tr>\n",
       "      <th>2</th>\n",
       "      <td>11</td>\n",
       "      <td>2</td>\n",
       "      <td>15.0</td>\n",
       "    </tr>\n",
       "    <tr>\n",
       "      <th>3</th>\n",
       "      <td>16</td>\n",
       "      <td>2</td>\n",
       "      <td>18.0</td>\n",
       "    </tr>\n",
       "    <tr>\n",
       "      <th>4</th>\n",
       "      <td>12</td>\n",
       "      <td>0</td>\n",
       "      <td>11.0</td>\n",
       "    </tr>\n",
       "  </tbody>\n",
       "</table>\n",
       "</div>"
      ],
      "text/plain": [
       "   diameter  n_topping  harga\n",
       "0         8          2   11.0\n",
       "1         9          0    8.5\n",
       "2        11          2   15.0\n",
       "3        16          2   18.0\n",
       "4        12          0   11.0"
      ]
     },
     "execution_count": 18,
     "metadata": {},
     "output_type": "execute_result"
    }
   ],
   "source": [
    "pizza = {'diameter': [8,9,11,16,12],\n",
    "        'n_topping':[2,0,2,2,0],\n",
    "        'harga':[11,8.5,15,18,11]}\n",
    "\n",
    "test_pizza_df = pd.DataFrame(pizza)\n",
    "test_pizza_df"
   ]
  },
  {
   "cell_type": "markdown",
   "id": "younger-effect",
   "metadata": {},
   "source": [
    "## PREPROCESSING DATASET"
   ]
  },
  {
   "cell_type": "markdown",
   "id": "reserved-portrait",
   "metadata": {},
   "source": [
    "Sebelum memasuki ke dalam tahap proses training model maka kita akan kelompokkan nilai features dan nilai target dari dataset yang kita miliki.\n",
    "Data diameter dan n_topping akan dikonversikan ke dalam numpy array dan dimasukkan ke dalam variable 'X_train' sebagai sekumpulan nilai features.\n",
    "Kemudian data harga akan dikonversikan ke dalam numpy array dan dimasukkan ke dalam variable 'y_train' sebagai sekumpulan nilai target untuk training set. Cara ini akan dilakukan pada testing setnya juga.  "
   ]
  },
  {
   "cell_type": "markdown",
   "id": "active-indonesia",
   "metadata": {},
   "source": [
    "Pada output dibawah ini, dapat dilihat bahwa X_train berada dalam format 2 dimensi sedangkan y_trainnya dalam format 1 dimensi. "
   ]
  },
  {
   "cell_type": "code",
   "execution_count": 19,
   "id": "spatial-liberia",
   "metadata": {},
   "outputs": [
    {
     "name": "stdout",
     "output_type": "stream",
     "text": [
      "X_train:\n",
      "[[ 6  2]\n",
      " [ 8  1]\n",
      " [10  0]\n",
      " [14  2]\n",
      " [18  0]]\n",
      "\n",
      "y_train:[ 7.   9.  13.  17.5 18. ]\n"
     ]
    }
   ],
   "source": [
    "import numpy as np\n",
    "\n",
    "X_train = np.array(train_pizza_df[['diameter','n_topping']])\n",
    "y_train = np.array(train_pizza_df['harga'])\n",
    "\n",
    "print(f'X_train:\\n{X_train}\\n')\n",
    "print(f'y_train:{y_train}')"
   ]
  },
  {
   "cell_type": "markdown",
   "id": "primary-cross",
   "metadata": {},
   "source": [
    "Berikut adalah output dari testing setnya:"
   ]
  },
  {
   "cell_type": "code",
   "execution_count": 20,
   "id": "controlling-arbor",
   "metadata": {},
   "outputs": [
    {
     "name": "stdout",
     "output_type": "stream",
     "text": [
      "X_test:\n",
      "[[ 8  2]\n",
      " [ 9  0]\n",
      " [11  2]\n",
      " [16  2]\n",
      " [12  0]]\n",
      "\n",
      "y_test:[11.   8.5 15.  18.  11. ]\n"
     ]
    }
   ],
   "source": [
    "X_test = np.array(test_pizza_df[['diameter','n_topping']])\n",
    "y_test = np.array(test_pizza_df['harga'])\n",
    "\n",
    "print(f'X_test:\\n{X_test}\\n')\n",
    "print(f'y_test:{y_test}')"
   ]
  },
  {
   "cell_type": "markdown",
   "id": "israeli-pregnancy",
   "metadata": {},
   "source": [
    "## MULTIPLE LINEAR REGRESSION"
   ]
  },
  {
   "cell_type": "markdown",
   "id": "cleared-eclipse",
   "metadata": {},
   "source": [
    "Multiple Linear Regression merupakan generalisasi dari Simple Linear Regression yang memungkinkan untuk menggunakan beberapa explanatory variables. Perbedaan mendasar dari Simple Linear Regression dengan Multiple Linear Regression terletak pada jumlah features/explanatory variables yang digunakan. "
   ]
  },
  {
   "cell_type": "markdown",
   "id": "virgin-training",
   "metadata": {},
   "source": [
    "- Simple Linear Regression menggunakan 1 features untuk melakukan prediksi nilai\n",
    "- Multiple Linear Regression menggunakan >1 features untuk melakukan prediksi nilai"
   ]
  },
  {
   "cell_type": "markdown",
   "id": "executed-scale",
   "metadata": {},
   "source": [
    "Langkah yang perlu dilakukan dalam melakukan Multiple Linear Regression adalah:\n",
    "   - Import modul LinearRegression \n",
    "   - import metrics yaitu r2_score\n",
    "   - Kemudian membentuk objek model yang ditampung dalam variable 'model'\n",
    "   - Melakukan proses training model \n",
    "   - Setelah model tersebut menjadi trained model maka model tersebut akan melakukan prediksi (model.predict) terhadap features yang berada pada testing set (X_test). \n",
    "   - Hasil prediksi ini akan digunakan untuk mengukur performa dari trained model kita (r2_score)"
   ]
  },
  {
   "cell_type": "code",
   "execution_count": 21,
   "id": "allied-joining",
   "metadata": {},
   "outputs": [
    {
     "name": "stdout",
     "output_type": "stream",
     "text": [
      "r_squared:0.7701677731318468\n"
     ]
    }
   ],
   "source": [
    "from sklearn.linear_model import LinearRegression\n",
    "from sklearn.metrics import r2_score \n",
    "\n",
    "model = LinearRegression()\n",
    "model.fit(X_train,y_train)\n",
    "y_pred = model.predict(X_test)\n",
    "\n",
    "print(f'r_squared:{r2_score(y_test,y_pred)}')"
   ]
  },
  {
   "cell_type": "markdown",
   "id": "charitable-reservation",
   "metadata": {},
   "source": [
    "# POLYNOMIAL REGRESSION "
   ]
  },
  {
   "cell_type": "markdown",
   "id": "molecular-fellow",
   "metadata": {},
   "source": [
    "Polynomial Regression memodelkan hubungan antara independent variable X (features) dan dependent variable y (target) sebagai derajat polynomial dalam X. "
   ]
  },
  {
   "cell_type": "markdown",
   "id": "lesbian-blackjack",
   "metadata": {},
   "source": [
    "## PREPROCESSING DATASET"
   ]
  },
  {
   "cell_type": "markdown",
   "id": "sought-allah",
   "metadata": {},
   "source": [
    "Pada tahap ini, featuresnya akan dipangkas menjadi 1 features dalam kasus ini yang menjadi features adalah 'diameter' pizza. Dan untuk target pizzanya adalah 'harga' pizza. "
   ]
  },
  {
   "cell_type": "code",
   "execution_count": 22,
   "id": "attended-crowd",
   "metadata": {},
   "outputs": [
    {
     "name": "stdout",
     "output_type": "stream",
     "text": [
      "X_train:\n",
      "[[ 6]\n",
      " [ 8]\n",
      " [10]\n",
      " [14]\n",
      " [18]]\n",
      "\n",
      "y_train:[ 7.   9.  13.  17.5 18. ]\n"
     ]
    }
   ],
   "source": [
    "X_train = np.array(train_pizza_df['diameter']).reshape(-1,1)\n",
    "y_train = np.array(train_pizza_df['harga'])\n",
    "\n",
    "print(f'X_train:\\n{X_train}\\n')\n",
    "print(f'y_train:{y_train}')"
   ]
  },
  {
   "cell_type": "markdown",
   "id": "fixed-parade",
   "metadata": {},
   "source": [
    "## POLYNOMIAL REGRESSION : QUADRATIC"
   ]
  },
  {
   "cell_type": "markdown",
   "id": "administrative-holmes",
   "metadata": {},
   "source": [
    "Quadratic atau biasa disebut dengan derajat polynomial 2. \n",
    "Cubic disebut juga dengan derajat polynomial 3."
   ]
  },
  {
   "cell_type": "markdown",
   "id": "turkish-pocket",
   "metadata": {},
   "source": [
    "### POLYNOMIAL FEATURES "
   ]
  },
  {
   "cell_type": "markdown",
   "id": "spare-rover",
   "metadata": {},
   "source": [
    "Pada tahap ini hal yang perlu dilakukan adalah :\n",
    "   - Mengimport model PolynomialFeatures \n",
    "   - Kemudian membentuk objek polynomial featuresnya yang disertai dengan parameter degree yaitu 2 dan dimasukkan ke dalam variable 'quadratic_feature'. Objek 'quadratic_feature' ini akan melakukan transformasi terhadap 'X_train' \n",
    "   - Hasil transformnya akan dimasukkan ke dalam variable 'X_train_quadratic'\n",
    "   "
   ]
  },
  {
   "cell_type": "code",
   "execution_count": 23,
   "id": "covered-kazakhstan",
   "metadata": {},
   "outputs": [
    {
     "name": "stdout",
     "output_type": "stream",
     "text": [
      "X_train_quadratic:\n",
      "[[  1.   6.  36.]\n",
      " [  1.   8.  64.]\n",
      " [  1.  10. 100.]\n",
      " [  1.  14. 196.]\n",
      " [  1.  18. 324.]]\n",
      "\n"
     ]
    }
   ],
   "source": [
    "from sklearn.preprocessing import PolynomialFeatures\n",
    "\n",
    "quadratic_feature = PolynomialFeatures(degree=2)\n",
    "X_train_quadratic = quadratic_feature.fit_transform(X_train)\n",
    "\n",
    "print(f'X_train_quadratic:\\n{X_train_quadratic}\\n')"
   ]
  },
  {
   "cell_type": "markdown",
   "id": "ruled-shower",
   "metadata": {},
   "source": [
    "### TRAINING MODEL "
   ]
  },
  {
   "cell_type": "markdown",
   "id": "pending-president",
   "metadata": {},
   "source": [
    "Melakukan proses training model :\n",
    "- Membuat objek modelnya yang dibentuk dengan cara LinearRegression() yang ditampung ke dalam variable 'model' \n",
    "- Kemudian objek model ini kita training dengan memanfaatkan objek features yang sudah kita transformasikan ke dalam polynomial. Oleh karena itu menggunakan 'X_train_quadratic'. "
   ]
  },
  {
   "cell_type": "code",
   "execution_count": 24,
   "id": "lovely-concert",
   "metadata": {},
   "outputs": [
    {
     "data": {
      "text/plain": [
       "LinearRegression()"
      ]
     },
     "execution_count": 24,
     "metadata": {},
     "output_type": "execute_result"
    }
   ],
   "source": [
    "model = LinearRegression()\n",
    "model.fit(X_train_quadratic, y_train)"
   ]
  },
  {
   "cell_type": "markdown",
   "id": "earned-desperate",
   "metadata": {},
   "source": [
    "### VISUALISASI MODEL"
   ]
  },
  {
   "cell_type": "markdown",
   "id": "tribal-mozambique",
   "metadata": {},
   "source": [
    "Melakukan visualisasi modelnya. \n",
    "- Membentuk sederet bilangan mulai dari 0 - 25 sebanyak 100 data point dan kemudian dimasukkan ke dalam variable 'X_vis'\n",
    "- Kemudian 'X_vis' ini akan dikenakan proses transformasi yang hasil transformasinya dimasukkan ke dalam variable 'X_vis_quadratic'\n",
    "- Selanjutnya kita akan melakukan prediksi terhadap 'X_vis_quadratic' dimana hasil prediksinya tersebut dimasukkan ke dalam variable 'y_vis_quadratic'\n",
    "- Kemudian kita akan memvisulisasikan 'X_train' dan 'y_train' sebagai scatter plot (berupa titik). Pada output, terdapat 5 titik yang merepresentasikan 5 data point pada training set\n",
    "- Kemudian memplotting hasil prediksi dari model kita dimana plottingnya berupa garis berwarna merah\n",
    "- Setelah itu, kita akan memberikan keterangan lainnya seperti title, xlabel, ylabel, batasan x dan y yang dimulai dari 0-25.  "
   ]
  },
  {
   "cell_type": "code",
   "execution_count": 25,
   "id": "greenhouse-tactics",
   "metadata": {},
   "outputs": [
    {
     "data": {
      "image/png": "[encoded data removed]",
      "text/plain": [
       "<Figure size 432x288 with 1 Axes>"
      ]
     },
     "metadata": {
      "needs_background": "light"
     },
     "output_type": "display_data"
    }
   ],
   "source": [
    "import matplotlib.pyplot as plt\n",
    "\n",
    "X_vis = np.linspace(0,25,100).reshape(-1,1)\n",
    "X_vis_quadratic = quadratic_feature.transform(X_vis)\n",
    "y_vis_quadratic = model.predict(X_vis_quadratic)\n",
    "\n",
    "plt.scatter(X_train,y_train)\n",
    "plt.plot(X_vis, y_vis_quadratic, '-r')\n",
    "\n",
    "plt.title('Perbandingan Diameter dan Harga Pizza')\n",
    "plt.xlabel('Diameter (inch)')\n",
    "plt.ylabel('Harga (dollar)')\n",
    "plt.xlim(0,25)\n",
    "plt.ylim(0,25)\n",
    "plt.grid(True)\n",
    "plt.show()"
   ]
  },
  {
   "cell_type": "markdown",
   "id": "verified-bracelet",
   "metadata": {},
   "source": [
    "### POLYNOMIAL REGRESSION: QUADRATIC VS CUBIC"
   ]
  },
  {
   "cell_type": "markdown",
   "id": "intermediate-delivery",
   "metadata": {},
   "source": [
    "- Training set \n",
    "    - Melakukan plotting pada data setnya dan menghasilkan 5 data point untuk training set\n",
    "- Linear \n",
    "    - Membuat objek model yang ditampung ke dalam variable 'model'\n",
    "    - Lalu modelnya kita training dengan 'X_train' dan 'y_train'\n",
    "    - Membuat 100 data point dengan jangkauan 0-25 dan direshape kemudian ditampung dalam variable 'X_vis'\n",
    "    - Kemudian membentuk variable 'y_vis' yang menampung hasil prediksi 'X_vis'\n",
    "    - Kemudian hasilnya ini akan ditampung secara visual dengan plt.plot-\n",
    "- Quadratic\n",
    "    - Perbedaannya adalah penerapan PolynomialFeatures dengan degree = 2 yang dimasukkan pada 'quadratic_feature'\n",
    "    - Kemudian 'quadratic_feature' ini akan digunakan untuk melakukan fit transform dan hasilnya akan ditampung ke dalam 'X_train_quadratic'\n",
    "    - Membentuk objek model dan melakukan training dengan menggunakan features yang sudah ditransformasikan ke dalam quadratic polynomial regression\n",
    "    - Kemudian akan divisualisasikan dengan plotting garis putus-putus berwarna hijau\n",
    "-Cubic\n",
    "    - Perbedaannya saat membentuk PolynimialFeatures dengan degree=3 dan untuk semua prosesnya sama persis dengan quadratic"
   ]
  },
  {
   "cell_type": "code",
   "execution_count": 26,
   "id": "specified-focus",
   "metadata": {},
   "outputs": [
    {
     "data": {
      "image/png": "[encoded data removed]",
      "text/plain": [
       "<Figure size 432x288 with 1 Axes>"
      ]
     },
     "metadata": {
      "needs_background": "light"
     },
     "output_type": "display_data"
    }
   ],
   "source": [
    "#Training Set\n",
    "plt.scatter(X_train,y_train)\n",
    "\n",
    "#Linear\n",
    "model = LinearRegression()\n",
    "model.fit(X_train,y_train)\n",
    "X_vis = np.linspace(0,25,100).reshape(-1,1)\n",
    "y_vis = model.predict(X_vis)\n",
    "plt.plot(X_vis,y_vis,'--r',label='linear')\n",
    "\n",
    "#Quadratic\n",
    "quadratic_feature = PolynomialFeatures(degree=2)\n",
    "X_train_quadratic = quadratic_feature.fit_transform(X_train)\n",
    "model = LinearRegression()\n",
    "model.fit(X_train_quadratic,y_train)\n",
    "X_vis_quadratic = quadratic_feature.transform(X_vis)\n",
    "y_vis = model.predict(X_vis_quadratic)\n",
    "plt.plot(X_vis, y_vis, '--g',label='quadratic()')\n",
    "\n",
    "#Cubic \n",
    "cubic_feature = PolynomialFeatures(degree=3)\n",
    "X_train_cubic = cubic_feature.fit_transform(X_train)\n",
    "model = LinearRegression()\n",
    "model.fit(X_train_cubic,y_train)\n",
    "X_vis_cubic = cubic_feature.transform(X_vis)\n",
    "y_vis = model.predict(X_vis_cubic)\n",
    "plt.plot(X_vis,y_vis,'--y',label='cubic')\n",
    "\n",
    "plt.title('Perbandingan Diameter dan Harga Pizza')\n",
    "plt.xlabel('Diameter (inch)')\n",
    "plt.ylabel('Harga (dollar)')\n",
    "plt.legend()\n",
    "plt.xlim(0,25)\n",
    "plt.ylim(0,25)\n",
    "plt.grid(True)\n",
    "plt.show()"
   ]
  }
 ],
 "metadata": {
  "kernelspec": {
   "display_name": "Python 3",
   "language": "python",
   "name": "python3"
  },
  "language_info": {
   "codemirror_mode": {
    "name": "ipython",
    "version": 3
   },
   "file_extension": ".py",
   "mimetype": "text/x-python",
   "name": "python",
   "nbconvert_exporter": "python",
   "pygments_lexer": "ipython3",
   "version": "3.7.10"
  }
 },
 "nbformat": 4,
 "nbformat_minor": 5
}

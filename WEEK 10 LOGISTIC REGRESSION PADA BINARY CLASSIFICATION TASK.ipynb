{
 "cells": [
  {
   "cell_type": "markdown",
   "id": "207ffaf1",
   "metadata": {},
   "source": [
    "# LOGISTIC REGRESSION pada BINARY CLASSIFICATION TASK "
   ]
  },
  {
   "cell_type": "markdown",
   "id": "47ea6b18",
   "metadata": {},
   "source": [
    "Sumber : \n",
    "- https://www.youtube.com/watch?v=oe7DW4rSH1o&ab_channel=IndonesiaBelajar"
   ]
  },
  {
   "cell_type": "markdown",
   "id": "75a2a81b",
   "metadata": {},
   "source": [
    "## Dataset : SMS Spam Collection Data Set"
   ]
  },
  {
   "cell_type": "markdown",
   "id": "cca234ac",
   "metadata": {},
   "source": [
    "Sumber Data : https://archive.ics.uci.edu/ml/datasets/SMS+Spam+Collection"
   ]
  },
  {
   "cell_type": "markdown",
   "id": "a4d013d0",
   "metadata": {},
   "source": [
    "Langkah-langkah:\n",
    "- Mengimport module pandas as pd\n",
    "- Mendownload file dataset SMS Spam Collection Data Set dari UCI Machine Learning Repository\n",
    "- Kemudian load file dataset sebagai pandas dataframe dengan pd.read_csv\n",
    "- Karena SMS dataset ini separatornya menggunakan tab maka kita spesifikasikan dengan '\\t'\n",
    "- Karena tidak menggunakan header, maka Header=None\n",
    "- Dataset ini akan diberikan label kolom dengan nama 'label' dan 'sms'\\\n",
    "- Kemudian hasilnya akan ditampung ke dalam variable 'df' "
   ]
  },
  {
   "cell_type": "code",
   "execution_count": 21,
   "id": "638d6dbc",
   "metadata": {},
   "outputs": [
    {
     "data": {
      "text/html": [
       "<div>\n",
       "<style scoped>\n",
       "    .dataframe tbody tr th:only-of-type {\n",
       "        vertical-align: middle;\n",
       "    }\n",
       "\n",
       "    .dataframe tbody tr th {\n",
       "        vertical-align: top;\n",
       "    }\n",
       "\n",
       "    .dataframe thead th {\n",
       "        text-align: right;\n",
       "    }\n",
       "</style>\n",
       "<table border=\"1\" class=\"dataframe\">\n",
       "  <thead>\n",
       "    <tr style=\"text-align: right;\">\n",
       "      <th></th>\n",
       "      <th>label</th>\n",
       "      <th>sms</th>\n",
       "    </tr>\n",
       "  </thead>\n",
       "  <tbody>\n",
       "    <tr>\n",
       "      <th>0</th>\n",
       "      <td>ham</td>\n",
       "      <td>Go until jurong point, crazy.. Available only ...</td>\n",
       "    </tr>\n",
       "    <tr>\n",
       "      <th>1</th>\n",
       "      <td>ham</td>\n",
       "      <td>Ok lar... Joking wif u oni...</td>\n",
       "    </tr>\n",
       "    <tr>\n",
       "      <th>2</th>\n",
       "      <td>spam</td>\n",
       "      <td>Free entry in 2 a wkly comp to win FA Cup fina...</td>\n",
       "    </tr>\n",
       "    <tr>\n",
       "      <th>3</th>\n",
       "      <td>ham</td>\n",
       "      <td>U dun say so early hor... U c already then say...</td>\n",
       "    </tr>\n",
       "    <tr>\n",
       "      <th>4</th>\n",
       "      <td>ham</td>\n",
       "      <td>Nah I don't think he goes to usf, he lives aro...</td>\n",
       "    </tr>\n",
       "  </tbody>\n",
       "</table>\n",
       "</div>"
      ],
      "text/plain": [
       "  label                                                sms\n",
       "0   ham  Go until jurong point, crazy.. Available only ...\n",
       "1   ham                      Ok lar... Joking wif u oni...\n",
       "2  spam  Free entry in 2 a wkly comp to win FA Cup fina...\n",
       "3   ham  U dun say so early hor... U c already then say...\n",
       "4   ham  Nah I don't think he goes to usf, he lives aro..."
      ]
     },
     "execution_count": 21,
     "metadata": {},
     "output_type": "execute_result"
    }
   ],
   "source": [
    "import pandas as pd \n",
    "\n",
    "df = pd.read_csv('./SMSSpamCollection',\n",
    "                sep='\\t',\n",
    "                header=None,\n",
    "                names=['label','sms'])\n",
    "df.head()"
   ]
  },
  {
   "cell_type": "markdown",
   "id": "731ef4e4",
   "metadata": {},
   "source": [
    "Dapat dilihat dari hasil output di atas, bahwa terdapat kolom label dan sms. Kolom 'sms' berisi sekumpulan text sms yang akan dijadikan features.\n",
    "Kolom 'label' berisi tentang klasifikasi dari setiap text smsnya. "
   ]
  },
  {
   "cell_type": "markdown",
   "id": "cce33580",
   "metadata": {},
   "source": [
    "Pada kolom label terdapat 'ham' dan 'spam'. \n",
    "Sms text yang dikategorikan sebagai 'spam' maka akan memiliki label spam.\n",
    "Sedangkan apabila sms text dikategorikan sebagai bukan spam maka akan memiliki label ham. "
   ]
  },
  {
   "cell_type": "markdown",
   "id": "bc232c35",
   "metadata": {},
   "source": [
    "Pada tahap ini, kita akan melakukan prediksi suatu text sms apakah termasuk spam atau ham dengan menggunakan logistic regression. "
   ]
  },
  {
   "cell_type": "code",
   "execution_count": 22,
   "id": "e22bfc8d",
   "metadata": {},
   "outputs": [
    {
     "data": {
      "text/plain": [
       "ham     4825\n",
       "spam     747\n",
       "Name: label, dtype: int64"
      ]
     },
     "execution_count": 22,
     "metadata": {},
     "output_type": "execute_result"
    }
   ],
   "source": [
    "df['label'].value_counts()"
   ]
  },
  {
   "cell_type": "markdown",
   "id": "e2545d65",
   "metadata": {},
   "source": [
    "Dapat dilihat hasil output diatas bahwa sms text yang termasuk ke dalam kategori 'ham' terdapat 4825 dan 'spam' terdapat 747. "
   ]
  },
  {
   "cell_type": "markdown",
   "id": "ac3a3de3",
   "metadata": {},
   "source": [
    "## Training & Testing Dataset"
   ]
  },
  {
   "cell_type": "markdown",
   "id": "8d167020",
   "metadata": {},
   "source": [
    "Kita akan membagi datasetnya menjadi 2 bagian yaitu training dataset dan testing dataset.  "
   ]
  },
  {
   "cell_type": "markdown",
   "id": "e780039a",
   "metadata": {},
   "source": [
    "Langkah-langkahnya :\n",
    "- Import dahulu modulenya yaitu import LabelBinarizer\n",
    "- Sekumpulan nilai 'sms' akan dimasukkan ke dalam variable 'X'\n",
    "- Sekumpulan dari kolom 'label' akan dimasukkan ke dalam variable 'y'\n",
    "- Membentuk objek class dari LabelBinarizer dan objeknya akan dimasukkan ke dalam variable 'lb'\n",
    "- Kemudian melakukan fit.transform dari objek 'lb' dan fit.transform ini akan dikenakan pada variable 'y'. Hasil dari fit.transform ini akan menghasilkan multi dimensional array, dan disini kita akan mengkonversi menjadi array 1 dimensi dengan menggunakan method ravel(). Hasilnya akan ditampung ke dalam variable 'y'\n",
    "- Kemudian kita akan mencoba mencari tahu proses dari label binarizernya dengan memanggil method lb.classes_"
   ]
  },
  {
   "cell_type": "code",
   "execution_count": 23,
   "id": "d25f8af7",
   "metadata": {},
   "outputs": [
    {
     "data": {
      "text/plain": [
       "array(['ham', 'spam'], dtype='<U4')"
      ]
     },
     "execution_count": 23,
     "metadata": {},
     "output_type": "execute_result"
    }
   ],
   "source": [
    "from sklearn.preprocessing import LabelBinarizer\n",
    "\n",
    "X = df['sms'].values\n",
    "y = df['label'].values\n",
    "\n",
    "lb = LabelBinarizer()\n",
    "y = lb.fit_transform(y).ravel()\n",
    "lb.classes_"
   ]
  },
  {
   "cell_type": "markdown",
   "id": "aae8a92a",
   "metadata": {},
   "source": [
    "Output diatas menjelaskan bahwa 'ham' akan diinterpretasikan sebagai 0 dan 'spam' akan diinterpretasikan sebagai 1. "
   ]
  },
  {
   "cell_type": "code",
   "execution_count": 24,
   "id": "21ece035",
   "metadata": {},
   "outputs": [
    {
     "name": "stdout",
     "output_type": "stream",
     "text": [
      "['Its going good...no problem..but still need little experience to understand american customer voice...'\n",
      " 'U have a secret admirer. REVEAL who thinks U R So special. Call 09065174042. To opt out Reply REVEAL STOP. 1.50 per msg recd. Cust care 07821230901'\n",
      " 'Ok...' ...\n",
      " \"For ur chance to win a £250 cash every wk TXT: ACTION to 80608. T's&C's www.movietrivia.tv custcare 08712405022, 1x150p/wk\"\n",
      " 'R U &SAM P IN EACHOTHER. IF WE MEET WE CAN GO 2 MY HOUSE'\n",
      " 'Mm feeling sleepy. today itself i shall get that dear'] \n",
      "\n",
      "[0 1 0 ... 1 0 0]\n"
     ]
    }
   ],
   "source": [
    "from sklearn.model_selection import train_test_split\n",
    "\n",
    "X_train, X_test, y_train, y_test = train_test_split(X,\n",
    "                                                   y,\n",
    "                                                   test_size=0.25,\n",
    "                                                   random_state=0)\n",
    "print(X_train,'\\n')\n",
    "print(y_train)"
   ]
  },
  {
   "cell_type": "markdown",
   "id": "0ef9681e",
   "metadata": {},
   "source": [
    "## Feature Extraction dengan TF-IDF"
   ]
  },
  {
   "cell_type": "markdown",
   "id": "82bf6495",
   "metadata": {},
   "source": [
    "Pada tahap ini, saya akan menggunakan TF-IDF."
   ]
  },
  {
   "cell_type": "markdown",
   "id": "6f92ca0c",
   "metadata": {},
   "source": [
    "Langkah-langkah:\n",
    "- Mengimport modulenya yaitu TfidfVectorizer \n",
    "- Membentuk objek TfidfVectorizer dengan parameter stop_words yang berisi 'english'. Objek ini akan ditampung ke dalam variable 'vectorizer'\n",
    "- Memanggil fit_transform dari objek vectorizer ini dan akan dikenakan pada X_train yang kemudian akan dimasukkan ke dalam variable 'X_train_tfidf'\n",
    "- Kemudian kita akan melakukan transform dari objek vectorizer yang dikenakan pada X_test, kemudian akan dimasukkan ke dalam variable 'X_test_tfidf'"
   ]
  },
  {
   "cell_type": "code",
   "execution_count": 25,
   "id": "fe0fc3fa",
   "metadata": {},
   "outputs": [
    {
     "name": "stdout",
     "output_type": "stream",
     "text": [
      "  (0, 6903)\t0.3591386422223876\n",
      "  (0, 2006)\t0.2898082580285881\n",
      "  (0, 900)\t0.4114867709157148\n",
      "  (0, 6739)\t0.3546359942830148\n",
      "  (0, 2554)\t0.3825278811525034\n",
      "  (0, 3926)\t0.3126721340000456\n",
      "  (0, 4453)\t0.2297719954323795\n",
      "  (0, 5123)\t0.308974289326673\n",
      "  (0, 3007)\t0.21421364306658514\n",
      "  (0, 2997)\t0.23173982975834367\n",
      "  (1, 36)\t0.28902673040368515\n",
      "  (1, 1548)\t0.18167737976542422\n",
      "  (1, 2003)\t0.2711077935907125\n",
      "  (1, 5301)\t0.2711077935907125\n",
      "  (1, 4358)\t0.17341410292348694\n",
      "  (1, 532)\t0.20186022353306565\n",
      "  (1, 6131)\t0.16142609035094446\n",
      "  (1, 5394)\t0.16464655071448758\n",
      "  (1, 4677)\t0.24039776602646504\n",
      "  (1, 216)\t0.28902673040368515\n",
      "  (1, 6013)\t0.20089911182610476\n",
      "  (1, 6472)\t0.24039776602646504\n",
      "  (1, 5441)\t0.5009783758205715\n",
      "  (1, 799)\t0.25048918791028574\n",
      "  (1, 5642)\t0.24344998442301355\n",
      "  :\t:\n",
      "  (4176, 343)\t0.2811068572055718\n",
      "  (4176, 107)\t0.29968668460649284\n",
      "  (4176, 2004)\t0.25589560236817055\n",
      "  (4176, 4350)\t0.29968668460649284\n",
      "  (4176, 637)\t0.29968668460649284\n",
      "  (4176, 7114)\t0.4512018097459442\n",
      "  (4176, 365)\t0.2388005587702937\n",
      "  (4176, 1612)\t0.21138425595332702\n",
      "  (4176, 779)\t0.2811068572055718\n",
      "  (4176, 7195)\t0.17892283441772988\n",
      "  (4176, 1569)\t0.18895085073406012\n",
      "  (4176, 7083)\t0.19523751585154273\n",
      "  (4176, 6684)\t0.22114159453800114\n",
      "  (4176, 6693)\t0.16491299289150899\n",
      "  (4176, 6792)\t0.1407604617250961\n",
      "  (4177, 2362)\t0.6158854885899457\n",
      "  (4177, 5565)\t0.5506066649743346\n",
      "  (4177, 4177)\t0.3636187667918345\n",
      "  (4177, 3319)\t0.43046342221720785\n",
      "  (4178, 5883)\t0.548491137555895\n",
      "  (4178, 4279)\t0.4530624713751054\n",
      "  (4178, 5720)\t0.3963527249882828\n",
      "  (4178, 6555)\t0.2897850627168302\n",
      "  (4178, 2641)\t0.3993042639531407\n",
      "  (4178, 2068)\t0.3055766821331892\n"
     ]
    }
   ],
   "source": [
    "from sklearn.feature_extraction.text import TfidfVectorizer\n",
    "\n",
    "vectorizer = TfidfVectorizer(stop_words='english')\n",
    "\n",
    "X_train_tfidf = vectorizer.fit_transform(X_train)\n",
    "X_test_tfidf = vectorizer.transform(X_test)\n",
    "\n",
    "print(X_train_tfidf)"
   ]
  },
  {
   "cell_type": "markdown",
   "id": "138dfa34",
   "metadata": {},
   "source": [
    "Melalui hasil output di atas, dapat dilihat bahwa nilai yang ditampung bukan berupa text SMS tetapi berupa Vector TF_IDF"
   ]
  },
  {
   "cell_type": "markdown",
   "id": "03f4f53f",
   "metadata": {},
   "source": [
    "## Binary Classification dengan Logistic Regression "
   ]
  },
  {
   "cell_type": "markdown",
   "id": "3a0b0091",
   "metadata": {},
   "source": [
    "Pada tahap ini, saya akan menerapkan Logistoc Regression untuk melakukan klasifikasi 'ham' dan 'spam' pada dataset SMS yang kita miliki. "
   ]
  },
  {
   "cell_type": "markdown",
   "id": "58885828",
   "metadata": {},
   "source": [
    "Langkah-langkah:\n",
    "- Mengimport module LogisticRegression \n",
    "- Membentuk objek LogisticRegression yang kemudian akan dimasukkan ke dalam variable 'model' \n",
    "- Kemudian objek model ini akan ditraining dengan memanggil method 'fit' dan menyertakan X_train_tfidf, y_train sebagai parameter untuk training = maka model ini akan menjadi trained model \n",
    "- trained model ini akan digunakan untuk melakukan prediksi dan sekumpulan nilai yang akan diprediksi adalah label berdasarkan data-data features yang ditampung pada 'X_test_tfidf'\n",
    "- Melakukan looping untuk menampilkan 5 hasil prediksi pertama "
   ]
  },
  {
   "cell_type": "code",
   "execution_count": 26,
   "id": "7d4cdb1d",
   "metadata": {},
   "outputs": [
    {
     "name": "stdout",
     "output_type": "stream",
     "text": [
      "PRED: 0 - SMS: Storming msg: Wen u lift d phne, u say \"HELLO\" Do u knw wt is d real meaning of HELLO?? . . . It's d name of a girl..! . . . Yes.. And u knw who is dat girl?? \"Margaret Hello\" She is d girlfrnd f Grahmbell who invnted telphone... . . . . Moral:One can 4get d name of a person, bt not his girlfrnd... G o o d n i g h t . . .@\n",
      "\n",
      "PRED: 0 - SMS: <Forwarded from 448712404000>Please CALL 08712404000 immediately as there is an urgent message waiting for you.\n",
      "\n",
      "PRED: 0 - SMS: And also I've sorta blown him off a couple times recently so id rather not text him out of the blue looking for weed\n",
      "\n",
      "PRED: 0 - SMS: Sir Goodmorning, Once free call me.\n",
      "\n",
      "PRED: 0 - SMS: All will come alive.better correct any good looking figure there itself..\n",
      "\n"
     ]
    }
   ],
   "source": [
    "from sklearn.linear_model import LogisticRegression \n",
    "\n",
    "model = LogisticRegression()\n",
    "model.fit(X_train_tfidf, y_train)\n",
    "y_pred = model.predict(X_test_tfidf)\n",
    "\n",
    "for pred, sms in zip(y_pred[:5], X_test[:5]):\n",
    "    print(f'PRED: {pred} - SMS: {sms}\\n')"
   ]
  },
  {
   "cell_type": "markdown",
   "id": "d7fe1381",
   "metadata": {},
   "source": [
    " ## Evaluation Metrics pada Binary Classification "
   ]
  },
  {
   "cell_type": "markdown",
   "id": "0ae856ca",
   "metadata": {},
   "source": [
    "### - Confusion Matrix\n",
    "### - Accuracy\n",
    "### - Prevission & Recall\n",
    "### - F1 Score\n",
    "### - ROC"
   ]
  },
  {
   "cell_type": "markdown",
   "id": "23f62c2d",
   "metadata": {},
   "source": [
    "## Terminologi Dasar"
   ]
  },
  {
   "cell_type": "markdown",
   "id": "3a95bb05",
   "metadata": {},
   "source": [
    "### - True Positive (TP)\n",
    "### - True Negative (TN)\n",
    "### - False Positive (FP)\n",
    "### - False Negative (FN)"
   ]
  },
  {
   "cell_type": "markdown",
   "id": "65a0251c",
   "metadata": {},
   "source": [
    "True Positive dan True Negative merepresentasikan hasil prediksi/klasifikasi yang benar. \n",
    "- True positive berarti sesuatu yang bernilai positif dengan tepat diprediksi sebagai positive oleh model, contohnya adalah model telah dengan tepat memprediksi data spam sebagi spam dan data ham sebagai data ham \n",
    "- True negative berarti sesuatu yang bernilai negatif dengan tepat diprediksi sebagai negative oleh model, contohnya adalah  model telah dengan tepat memprediksi data ham sebagai bukan data spam  dan data spam sebagai bukan data ham \n",
    "\n",
    "False Positive dan False Negative merepresentasikan hasil prediksi yang salah\n",
    "- False positive berarti sesuatu yang bernilai negative dengan keliru diprediksi sebagai positive oleh model, contohnya adalah model telah memprediksi dengan keliru data spam sebagi ham dan data ham sebagai data spam. \n",
    "- False negative berarti sesuatu yang bernilai positive dengan keliru diprediksi sebagai negative oleh model, contohnya adalah model telah memprediksi dengan keliru data spam sebagi bukan data spam dan data ham sebagai bukan data ham. "
   ]
  },
  {
   "cell_type": "markdown",
   "id": "4f939b7d",
   "metadata": {},
   "source": [
    "## Confusion Matrix "
   ]
  },
  {
   "cell_type": "markdown",
   "id": "1695711c",
   "metadata": {},
   "source": [
    "Confusion matrix seringkali juga dikenal sebagai error matrix. \n",
    "Confusion matrix berperan untuk menampilkan nilai true negative, true positive, false negative, dan false positive. "
   ]
  },
  {
   "cell_type": "markdown",
   "id": "a9a7f367",
   "metadata": {},
   "source": [
    "Langkah-langkah:\n",
    "- Import module confusion_matrix \n",
    "- Memanggil confusion_matrix dengan parameter 'y_test' dan 'y_pred' yang kemudian ditampung pada variable 'matrix'"
   ]
  },
  {
   "cell_type": "code",
   "execution_count": 27,
   "id": "a45e06ab",
   "metadata": {},
   "outputs": [
    {
     "data": {
      "text/plain": [
       "array([[1207,    1],\n",
       "       [  48,  137]], dtype=int64)"
      ]
     },
     "execution_count": 27,
     "metadata": {},
     "output_type": "execute_result"
    }
   ],
   "source": [
    "from sklearn.metrics import confusion_matrix\n",
    "\n",
    "matrix = confusion_matrix(y_test, y_pred)\n",
    "matrix"
   ]
  },
  {
   "cell_type": "code",
   "execution_count": 28,
   "id": "2604b9a3",
   "metadata": {},
   "outputs": [
    {
     "name": "stdout",
     "output_type": "stream",
     "text": [
      "TN:1207\n",
      "FP:1\n",
      "FN:48\n",
      "TP:137\n"
     ]
    }
   ],
   "source": [
    "tn, fp, fn,tp = matrix.ravel()\n",
    "\n",
    "print(f'TN:{tn}')\n",
    "print(f'FP:{fp}')\n",
    "print(f'FN:{fn}')\n",
    "print(f'TP:{tp}')"
   ]
  },
  {
   "cell_type": "code",
   "execution_count": 29,
   "id": "f6498c96",
   "metadata": {},
   "outputs": [
    {
     "data": {
      "image/png": "[encoded data removed]",
      "text/plain": [
       "<Figure size 288x288 with 2 Axes>"
      ]
     },
     "metadata": {
      "needs_background": "light"
     },
     "output_type": "display_data"
    }
   ],
   "source": [
    "import matplotlib.pyplot as plt \n",
    "\n",
    "plt.matshow(matrix)\n",
    "plt.colorbar()\n",
    "\n",
    "plt.title('Confusion Matrix')\n",
    "plt.ylabel('True label')\n",
    "plt.xlabel('Predicted label')\n",
    "plt.show()"
   ]
  },
  {
   "cell_type": "markdown",
   "id": "659e32ca",
   "metadata": {},
   "source": [
    "Method colorbar ini untuk memunculkan color bar di samping kanan.\n",
    "- Warna kuning merepresentasikan nilai True Negative \n",
    "- Warna ungu muda merepresentasikan nilai True Positive \n",
    "\n",
    "Berarti warna kuning dan ungu muda merupakan hasil prediksi yang tepat.\n",
    "- Warna ungu tua yang berada di sebelah kanan atas merepresentasikan False Positive, karena seharusnya datanya adalah data ham tetapi diprediksi sebagai data spam\n",
    "- Warna ungu tua yang berada di sebelah kiri bawah merepresentasikan False Negative, karena seharusnya datanya adalah data spam tetapi diprediksi sebagai data ham"
   ]
  },
  {
   "cell_type": "markdown",
   "id": "edc1e61c",
   "metadata": {},
   "source": [
    "## Accuracy "
   ]
  },
  {
   "cell_type": "markdown",
   "id": "06b31011",
   "metadata": {},
   "source": [
    "Accuracy mengukur porsi dari hasil prediksi yang tepat. "
   ]
  },
  {
   "cell_type": "code",
   "execution_count": 31,
   "id": "d30e6cde",
   "metadata": {},
   "outputs": [
    {
     "data": {
      "text/plain": [
       "0.964824120603015"
      ]
     },
     "execution_count": 31,
     "metadata": {},
     "output_type": "execute_result"
    }
   ],
   "source": [
    "from sklearn.metrics import accuracy_score\n",
    "\n",
    "accuracy_score(y_test, y_pred)"
   ]
  },
  {
   "cell_type": "markdown",
   "id": "08b02a83",
   "metadata": {},
   "source": [
    "## Precission & Recall "
   ]
  },
  {
   "cell_type": "markdown",
   "id": "722cfe26",
   "metadata": {},
   "source": [
    "Selain menggunakan accuracy, performa dari suatu classifier umumnya juga diukur berdasarkan nilai Precission dan Recall."
   ]
  },
  {
   "cell_type": "code",
   "execution_count": 32,
   "id": "22503528",
   "metadata": {},
   "outputs": [
    {
     "data": {
      "text/plain": [
       "0.9927536231884058"
      ]
     },
     "execution_count": 32,
     "metadata": {},
     "output_type": "execute_result"
    }
   ],
   "source": [
    "from sklearn.metrics import precision_score\n",
    "\n",
    "precision_score(y_test, y_pred)"
   ]
  },
  {
   "cell_type": "markdown",
   "id": "a9d913e6",
   "metadata": {},
   "source": [
    "Rentang nilai precision_score dari 0 sampai 1."
   ]
  },
  {
   "cell_type": "markdown",
   "id": "db0271b5",
   "metadata": {},
   "source": [
    "### Recall or True Positive Rate (TPR) or Sensitivity"
   ]
  },
  {
   "cell_type": "code",
   "execution_count": 33,
   "id": "9c734131",
   "metadata": {},
   "outputs": [
    {
     "data": {
      "text/plain": [
       "0.7405405405405405"
      ]
     },
     "execution_count": 33,
     "metadata": {},
     "output_type": "execute_result"
    }
   ],
   "source": [
    "from sklearn.metrics import recall_score\n",
    "\n",
    "recall_score(y_test, y_pred)"
   ]
  },
  {
   "cell_type": "markdown",
   "id": "7345d871",
   "metadata": {},
   "source": [
    "## F-1 Score"
   ]
  },
  {
   "cell_type": "markdown",
   "id": "aedad2f8",
   "metadata": {},
   "source": [
    "F1-score atau F1-measure adalah harmonic mean dari precission dan recall"
   ]
  },
  {
   "cell_type": "code",
   "execution_count": 34,
   "id": "fd457b44",
   "metadata": {},
   "outputs": [
    {
     "data": {
      "text/plain": [
       "0.8482972136222909"
      ]
     },
     "execution_count": 34,
     "metadata": {},
     "output_type": "execute_result"
    }
   ],
   "source": [
    "from sklearn.metrics import f1_score\n",
    "\n",
    "f1_score(y_test,y_pred)"
   ]
  },
  {
   "cell_type": "markdown",
   "id": "85f3b07f",
   "metadata": {},
   "source": [
    "## ROC: Receiver Operating Characteristic"
   ]
  },
  {
   "cell_type": "markdown",
   "id": "6c25df06",
   "metadata": {},
   "source": [
    "ROC menawarkan visualisasi terhadap performa dari classifier dengan membandingkan nilai Recall (TPR) dan nilai Fallout (FPR)"
   ]
  },
  {
   "cell_type": "code",
   "execution_count": 35,
   "id": "4c6cbd67",
   "metadata": {},
   "outputs": [
    {
     "data": {
      "image/png": "[encoded data removed]",
      "text/plain": [
       "<Figure size 432x288 with 1 Axes>"
      ]
     },
     "metadata": {
      "needs_background": "light"
     },
     "output_type": "display_data"
    }
   ],
   "source": [
    "from sklearn.metrics import roc_curve, auc\n",
    "\n",
    "prob_estimates = model.predict_proba(X_test_tfidf)\n",
    "\n",
    "fpr,tpr, threshhold = roc_curve(y_test, prob_estimates[:,1])\n",
    "nilai_auc = auc(fpr, tpr)\n",
    "\n",
    "plt.plot(fpr, tpr, 'b', label=f'AUC={nilai_auc}')\n",
    "plt.plot([0,1],[0,1],'r--',label='Random Classifier')\n",
    "\n",
    "plt.title('ROC: Receiver Operating Characteristic')\n",
    "plt.xlabel('Fallout or False Positive Rate')\n",
    "plt.ylabel('Recall or True Positive Rate')\n",
    "plt.legend()\n",
    "plt.show()"
   ]
  }
 ],
 "metadata": {
  "kernelspec": {
   "display_name": "Python 3",
   "language": "python",
   "name": "python3"
  },
  "language_info": {
   "codemirror_mode": {
    "name": "ipython",
    "version": 3
   },
   "file_extension": ".py",
   "mimetype": "text/x-python",
   "name": "python",
   "nbconvert_exporter": "python",
   "pygments_lexer": "ipython3",
   "version": "3.7.10"
  }
 },
 "nbformat": 4,
 "nbformat_minor": 5
}

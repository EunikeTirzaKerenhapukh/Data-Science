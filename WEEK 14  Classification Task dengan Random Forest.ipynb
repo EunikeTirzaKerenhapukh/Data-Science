{
 "cells": [
  {
   "cell_type": "markdown",
   "id": "da44bb02",
   "metadata": {},
   "source": [
    "# WEEK 14 : Classification Task dengan Random Forest"
   ]
  },
  {
   "cell_type": "markdown",
   "id": "3396548c",
   "metadata": {},
   "source": [
    "Sumber : \n",
    "- https://www.youtube.com/watch?v=yKovaQ6tyV8&ab_channel=IndonesiaBelajar"
   ]
  },
  {
   "cell_type": "markdown",
   "id": "a1c6c9be",
   "metadata": {},
   "source": [
    "## General ML Model Training"
   ]
  },
  {
   "cell_type": "markdown",
   "id": "dff5b87a",
   "metadata": {},
   "source": [
    "![](WEEK134.png)"
   ]
  },
  {
   "cell_type": "markdown",
   "id": "e0467a72",
   "metadata": {},
   "source": [
    "## Ensemble Learning: heterogeneous & homogeneous"
   ]
  },
  {
   "cell_type": "markdown",
   "id": "a8a78db2",
   "metadata": {},
   "source": [
    "Referensi: https://en.wikipedia.org/wiki/Ensemble_learning"
   ]
  },
  {
   "cell_type": "markdown",
   "id": "bb924286",
   "metadata": {},
   "source": [
    "![](WEEK135.png)"
   ]
  },
  {
   "cell_type": "markdown",
   "id": "21850a90",
   "metadata": {},
   "source": [
    "## Bagging: Bootstrap Aggregating"
   ]
  },
  {
   "cell_type": "markdown",
   "id": "3f366eb8",
   "metadata": {},
   "source": [
    "Referensi: https://en.wikipedia.org/wiki/Bootstrap_aggregating"
   ]
  },
  {
   "cell_type": "markdown",
   "id": "72ebcb2f",
   "metadata": {},
   "source": [
    "![](WEEK136.png)"
   ]
  },
  {
   "cell_type": "markdown",
   "id": "d6d79955",
   "metadata": {},
   "source": [
    "## Random Forest"
   ]
  },
  {
   "cell_type": "markdown",
   "id": "4179b63c",
   "metadata": {},
   "source": [
    "Referensi: https://en.wikipedia.org/wiki/Random_forest"
   ]
  },
  {
   "cell_type": "markdown",
   "id": "dce2994c",
   "metadata": {},
   "source": [
    "![](WEEK137.png)"
   ]
  },
  {
   "cell_type": "markdown",
   "id": "8125dd93",
   "metadata": {},
   "source": [
    "## Dataset "
   ]
  },
  {
   "cell_type": "markdown",
   "id": "ba653a8c",
   "metadata": {},
   "source": [
    "Referensi: https://en.wikipedia.org/wiki/Iris_flower_data_set"
   ]
  },
  {
   "cell_type": "code",
   "execution_count": 8,
   "id": "d43cccc1",
   "metadata": {},
   "outputs": [
    {
     "name": "stdout",
     "output_type": "stream",
     "text": [
      "Dimensi Feature: (150, 4)\n",
      "Class: {0, 1, 2}\n"
     ]
    }
   ],
   "source": [
    "from sklearn.datasets import load_iris\n",
    "\n",
    "X, y = load_iris(return_X_y=True)\n",
    "\n",
    "print(f'Dimensi Feature: {X.shape}')\n",
    "print(f'Class: {set(y)}')"
   ]
  },
  {
   "cell_type": "code",
   "execution_count": 9,
   "id": "16c12cf1",
   "metadata": {},
   "outputs": [],
   "source": [
    "from sklearn.model_selection import train_test_split\n",
    "\n",
    "X_train, X_test, y_train, y_test = train_test_split(X,\n",
    "                                                    y,\n",
    "                                                    test_size=0.3,\n",
    "                                                    random_state=0)"
   ]
  },
  {
   "cell_type": "markdown",
   "id": "6fb56d41",
   "metadata": {},
   "source": [
    "## Classification dengan RandomForestClassifier"
   ]
  },
  {
   "cell_type": "code",
   "execution_count": 10,
   "id": "9aae344e",
   "metadata": {},
   "outputs": [
    {
     "data": {
      "text/plain": [
       "RandomForestClassifier(random_state=0)"
      ]
     },
     "execution_count": 10,
     "metadata": {},
     "output_type": "execute_result"
    }
   ],
   "source": [
    "from sklearn.ensemble import RandomForestClassifier\n",
    "\n",
    "model = RandomForestClassifier(n_estimators=100, \n",
    "                               random_state=0)\n",
    "\n",
    "model.fit(X_train, y_train)"
   ]
  },
  {
   "cell_type": "markdown",
   "id": "2a54f47b",
   "metadata": {},
   "source": [
    "## Evaluasi Model"
   ]
  },
  {
   "cell_type": "code",
   "execution_count": 11,
   "id": "94221685",
   "metadata": {},
   "outputs": [
    {
     "name": "stdout",
     "output_type": "stream",
     "text": [
      "              precision    recall  f1-score   support\n",
      "\n",
      "           0       1.00      1.00      1.00        16\n",
      "           1       1.00      0.94      0.97        18\n",
      "           2       0.92      1.00      0.96        11\n",
      "\n",
      "    accuracy                           0.98        45\n",
      "   macro avg       0.97      0.98      0.98        45\n",
      "weighted avg       0.98      0.98      0.98        45\n",
      "\n"
     ]
    }
   ],
   "source": [
    "from sklearn.metrics import classification_report\n",
    "\n",
    "y_pred = model.predict(X_test)\n",
    "\n",
    "print(classification_report(y_test, y_pred))"
   ]
  }
 ],
 "metadata": {
  "kernelspec": {
   "display_name": "Python 3",
   "language": "python",
   "name": "python3"
  },
  "language_info": {
   "codemirror_mode": {
    "name": "ipython",
    "version": 3
   },
   "file_extension": ".py",
   "mimetype": "text/x-python",
   "name": "python",
   "nbconvert_exporter": "python",
   "pygments_lexer": "ipython3",
   "version": "3.7.10"
  }
 },
 "nbformat": 4,
 "nbformat_minor": 5
}

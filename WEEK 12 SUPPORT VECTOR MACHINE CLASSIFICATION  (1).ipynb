{
 "cells": [
  {
   "cell_type": "markdown",
   "metadata": {},
   "source": [
    "# WEEK 12 : SUPPORT VECTOR MACHINE (SVM) CLASSIFICATION "
   ]
  },
  {
   "cell_type": "markdown",
   "metadata": {},
   "source": [
    "Sumber:\n",
    "- https://www.youtube.com/watch?v=z69XYXpvVrE&ab_channel=IndonesiaBelajar"
   ]
  },
  {
   "cell_type": "markdown",
   "metadata": {},
   "source": [
    "## Konsep Dasar"
   ]
  },
  {
   "cell_type": "markdown",
   "metadata": {},
   "source": [
    "### Decision Boundary (Hyperplane)"
   ]
  },
  {
   "cell_type": "markdown",
   "metadata": {},
   "source": [
    "Dibawah ini merupakan gambar dari contoh kasus klasifikasi yang terdiri dari 2 buah class yaitu class hitam dan class putih. \n",
    "Pada gambar ini juga terdapat 2 buah features yaitu X1(horizontal) dan X2(vertikal)."
   ]
  },
  {
   "cell_type": "markdown",
   "metadata": {},
   "source": [
    "Pada kasus ini kita diminta untuk menarik garis lurus/garis linear untuk memisahkan kedua class ini. \n",
    "Pemisah atau garis lurus untuk memisahkan 2 class ini disebut juga dengan __Decision Boundary__"
   ]
  },
  {
   "cell_type": "markdown",
   "metadata": {},
   "source": [
    "Misalkan terdapat 3 garis lurus yaitu H1, H2, dan H3. \n",
    "Dapat disimpulkan bahwa H3 merupakan garis lurus yang sangat baik untuk memisahkan kedua class. Hal ini dikarenakan H3 memiliki margin yang lebih besar dibandingkan dari H2 dan H1. "
   ]
  },
  {
   "cell_type": "markdown",
   "metadata": {},
   "source": [
    "Setiap decision boundaries yang telah ditentukan disebut juga dengan __HYPERPLANE__\n",
    "SVM mencari decision boundary yang dapat memisahkan antar class dengan baik. "
   ]
  },
  {
   "cell_type": "markdown",
   "metadata": {},
   "source": [
    "![](SVM1.png)"
   ]
  },
  {
   "cell_type": "markdown",
   "metadata": {},
   "source": [
    "### Maximum Margin"
   ]
  },
  {
   "cell_type": "markdown",
   "metadata": {},
   "source": [
    "Margin ditentukan berdasarkan jarak terdekat antara decision boundary dengan anggota class yang ingin dipisahkan. "
   ]
  },
  {
   "cell_type": "markdown",
   "metadata": {},
   "source": [
    "Pada gambar dibawah ini, terdapat __class biru__ dan __class hijau.__ Kemudian terdapat 2 features yaitu X1 dan X2.\n",
    "Pada kasus ini, terdapat decision boundary berupa garis linear berwarna merah yang digunakan untuk memisahkan kedua class yang dimiliki. \n",
    "Area yang diarsir berwarna kuning disebut dengan __margin__."
   ]
  },
  {
   "cell_type": "markdown",
   "metadata": {},
   "source": [
    "Margin diperoleh berdasarkan jarak terdekat antara decision boundary dengan anggota dari class yang ingin dipisahkan."
   ]
  },
  {
   "cell_type": "markdown",
   "metadata": {},
   "source": [
    "Setiap anggota kelas yang berperan untuk menentukan margin disebut juga dengan __support vector__\n",
    "Pada kasus kali ini, terdapat 3 support vector (2 biru dan 1 hijau).\n",
    "Support vector ini merupakan anggota dari class yang posisinya paling dekat dengan decision boundary. \n",
    "Dalam menentukan decision boundary, SVM akan memilih berdasarkan margin  terbesar atau disebut juga dengan __maximum margin__"
   ]
  },
  {
   "cell_type": "markdown",
   "metadata": {},
   "source": [
    "![](SVM2.png)"
   ]
  },
  {
   "cell_type": "markdown",
   "metadata": {},
   "source": [
    "### Linearly Inseperable & Kernel Tricks"
   ]
  },
  {
   "cell_type": "markdown",
   "metadata": {},
   "source": [
    "Pada kasus di bawah ini terdapat kelas __titik__ dan kelas __X__.\n",
    "Kemudian terdapat 2 buah features sehingga ketika dilakukan plotting, kita akan mendapatkan plotting 2 dimensi seperti pada gambar pertama."
   ]
  },
  {
   "cell_type": "markdown",
   "metadata": {},
   "source": [
    "Pada kasus kali ini tidak memungkinkan untuk membuat garis linear/decision boundary. Kondisi ini disebut juga dengan __linearly inseperable__\n",
    "Untuk mengatasi masalah ini, maka SVM akan memproyeksikan data yang ada ke dimensi yang lebih tinggi. "
   ]
  },
  {
   "cell_type": "markdown",
   "metadata": {},
   "source": [
    "Jadi apabila data sebelumnya berada dalam 2 dimensi maka akan diubah menjadi 3 dimensi, seperti pada gambar 2.  "
   ]
  },
  {
   "cell_type": "markdown",
   "metadata": {},
   "source": [
    "Kernel Tricks adalah suatu teknik untuk mengatasi kenaikan beban komputasi.\n",
    "Terdapat beberapa jenis kernel yaitu polynomial, sigmoid, dan radial basis function. "
   ]
  },
  {
   "cell_type": "markdown",
   "metadata": {},
   "source": [
    "Pemanfaatan support vector dan kernel tricks untuk membentuk decision boundary inilah disebut juga __Support Vector Machine__. "
   ]
  },
  {
   "cell_type": "markdown",
   "metadata": {},
   "source": [
    "![](SVM3.png)"
   ]
  },
  {
   "cell_type": "markdown",
   "metadata": {},
   "source": [
    "### Dataset: The MNIST database of handwritten digits\n",
    "Referensi : \n",
    "- http://yann.lecun.com/exdb/mnist/"
   ]
  },
  {
   "cell_type": "markdown",
   "metadata": {},
   "source": [
    "Pertama-tama menyiapkan dataset handwritten digits dengan cara mendownload datasetnya. "
   ]
  },
  {
   "cell_type": "markdown",
   "metadata": {},
   "source": [
    "Dapat dilihat untuk jumlah barisnya adalah 7000 dan jumlah kolomnya adalah 784. "
   ]
  },
  {
   "cell_type": "code",
   "execution_count": 1,
   "metadata": {},
   "outputs": [
    {
     "data": {
      "text/plain": [
       "(70000, 784)"
      ]
     },
     "execution_count": 1,
     "metadata": {},
     "output_type": "execute_result"
    }
   ],
   "source": [
    "from sklearn.datasets import fetch_openml\n",
    "\n",
    "X, y = fetch_openml('mnist_784', data_home='./dataset/mnist', return_X_y=True)\n",
    "X.shape"
   ]
  },
  {
   "cell_type": "markdown",
   "metadata": {},
   "source": [
    "Menampilkan 8 baris pertama:"
   ]
  },
  {
   "cell_type": "code",
   "execution_count": 2,
   "metadata": {},
   "outputs": [
    {
     "data": {
      "image/png": "[encoded data removed]",
      "text/plain": [
       "<Figure size 432x288 with 8 Axes>"
      ]
     },
     "metadata": {
      "needs_background": "light"
     },
     "output_type": "display_data"
    }
   ],
   "source": [
    "import matplotlib.pyplot as plt\n",
    "import matplotlib.cm as cm\n",
    "\n",
    "pos = 1\n",
    "for data in X[:8]:\n",
    "    plt.subplot(1, 8, pos)\n",
    "    plt.imshow(data.reshape((28, 28)), \n",
    "               cmap=cm.Greys_r)\n",
    "    plt.axis('off')\n",
    "    pos += 1\n",
    "\n",
    "plt.show()"
   ]
  },
  {
   "cell_type": "code",
   "execution_count": 3,
   "metadata": {},
   "outputs": [
    {
     "data": {
      "text/plain": [
       "array(['5', '0', '4', '1', '9', '2', '1', '3'], dtype=object)"
      ]
     },
     "execution_count": 3,
     "metadata": {},
     "output_type": "execute_result"
    }
   ],
   "source": [
    "y[:8]"
   ]
  },
  {
   "cell_type": "markdown",
   "metadata": {},
   "source": [
    "Membagi dataset ini menjadi training dan testing set, dan menggunakan keseluruhan data yang ada.  "
   ]
  },
  {
   "cell_type": "code",
   "execution_count": 7,
   "metadata": {},
   "outputs": [],
   "source": [
    "#X_train = X[:60000]\n",
    "#y_train = y[:60000]\n",
    "#X_test = X[60000:]\n",
    "#y_test = y[60000:]\n",
    "\n",
    "X_train = X[:1000]\n",
    "y_train = y[:1000]\n",
    "X_test = X[1000:]\n",
    "y_test = y[1000:]"
   ]
  },
  {
   "cell_type": "markdown",
   "metadata": {},
   "source": [
    "### Classification dengan SVC (Support Vector Classifier) "
   ]
  },
  {
   "cell_type": "markdown",
   "metadata": {},
   "source": [
    "Disini kita akan menerapkan SVC untuk melakukan classification pada data numerik berdasarkan dataset yang kita miliki. "
   ]
  },
  {
   "cell_type": "markdown",
   "metadata": {},
   "source": [
    "Langkah-langkah:\n",
    "- Mengimport modul SVC\n",
    "- Bentuk objek dari modelnya dengan parameter random_state = 0  dan ditampung ke dalam variable 'model'\n",
    "- Model ini akan ditraining dengan memanggil method fit "
   ]
  },
  {
   "cell_type": "code",
   "execution_count": 8,
   "metadata": {},
   "outputs": [
    {
     "data": {
      "text/plain": [
       "SVC(C=1.0, break_ties=False, cache_size=200, class_weight=None, coef0=0.0,\n",
       "    decision_function_shape='ovr', degree=3, gamma='scale', kernel='rbf',\n",
       "    max_iter=-1, probability=False, random_state=0, shrinking=True, tol=0.001,\n",
       "    verbose=False)"
      ]
     },
     "execution_count": 8,
     "metadata": {},
     "output_type": "execute_result"
    }
   ],
   "source": [
    "from sklearn.svm import SVC\n",
    "\n",
    "model = SVC(random_state=0)\n",
    "model.fit(X_train, y_train)"
   ]
  },
  {
   "cell_type": "code",
   "execution_count": 9,
   "metadata": {},
   "outputs": [
    {
     "name": "stdout",
     "output_type": "stream",
     "text": [
      "              precision    recall  f1-score   support\n",
      "\n",
      "           0       0.95      0.97      0.96      6806\n",
      "           1       0.95      0.97      0.96      7761\n",
      "           2       0.89      0.91      0.90      6891\n",
      "           3       0.93      0.82      0.87      7048\n",
      "           4       0.88      0.91      0.90      6719\n",
      "           5       0.82      0.90      0.86      6221\n",
      "           6       0.95      0.92      0.94      6782\n",
      "           7       0.91      0.92      0.92      7176\n",
      "           8       0.91      0.84      0.87      6738\n",
      "           9       0.85      0.88      0.86      6858\n",
      "\n",
      "    accuracy                           0.91     69000\n",
      "   macro avg       0.91      0.90      0.90     69000\n",
      "weighted avg       0.91      0.91      0.91     69000\n",
      "\n"
     ]
    }
   ],
   "source": [
    "from sklearn.metrics import classification_report\n",
    "\n",
    "y_pred = model.predict(X_test)\n",
    "print(classification_report(y_test,y_pred))"
   ]
  },
  {
   "cell_type": "markdown",
   "metadata": {},
   "source": [
    "### Hyperparameter Tuning dengan GridSearchCV"
   ]
  },
  {
   "cell_type": "code",
   "execution_count": 10,
   "metadata": {},
   "outputs": [
    {
     "name": "stdout",
     "output_type": "stream",
     "text": [
      "Fitting 5 folds for each of 60 candidates, totalling 300 fits\n"
     ]
    },
    {
     "name": "stderr",
     "output_type": "stream",
     "text": [
      "[Parallel(n_jobs=6)]: Using backend LokyBackend with 6 concurrent workers.\n",
      "[Parallel(n_jobs=6)]: Done  38 tasks      | elapsed:   12.7s\n",
      "[Parallel(n_jobs=6)]: Done 188 tasks      | elapsed:   47.9s\n",
      "[Parallel(n_jobs=6)]: Done 300 out of 300 | elapsed:  1.3min finished\n"
     ]
    },
    {
     "data": {
      "text/plain": [
       "GridSearchCV(cv=None, error_score=nan,\n",
       "             estimator=SVC(C=1.0, break_ties=False, cache_size=200,\n",
       "                           class_weight=None, coef0=0.0,\n",
       "                           decision_function_shape='ovr', degree=3,\n",
       "                           gamma='scale', kernel='rbf', max_iter=-1,\n",
       "                           probability=False, random_state=0, shrinking=True,\n",
       "                           tol=0.001, verbose=False),\n",
       "             iid='deprecated', n_jobs=6,\n",
       "             param_grid={'C': [0.5, 1, 10, 100],\n",
       "                         'gamma': ['scale', 1, 0.1, 0.01, 0.001],\n",
       "                         'kernel': ['rbf', 'poly', 'sigmoid']},\n",
       "             pre_dispatch='2*n_jobs', refit=True, return_train_score=False,\n",
       "             scoring='accuracy', verbose=1)"
      ]
     },
     "execution_count": 10,
     "metadata": {},
     "output_type": "execute_result"
    }
   ],
   "source": [
    "from sklearn.model_selection import GridSearchCV\n",
    "\n",
    "parameters = {\n",
    "    'kernel': ['rbf', 'poly', 'sigmoid'],\n",
    "    'C': [0.5, 1, 10, 100],\n",
    "    'gamma': ['scale', 1, 0.1, 0.01, 0.001]\n",
    "}\n",
    "\n",
    "grid_search = GridSearchCV(estimator=SVC(random_state=0),\n",
    "                           param_grid=parameters,\n",
    "                           n_jobs=6,\n",
    "                           verbose=1,\n",
    "                           scoring='accuracy')\n",
    "\n",
    "grid_search.fit(X_train, y_train)"
   ]
  },
  {
   "cell_type": "code",
   "execution_count": 11,
   "metadata": {},
   "outputs": [
    {
     "name": "stdout",
     "output_type": "stream",
     "text": [
      "Best Score: 0.907\n",
      "Best Parameters:\n",
      "\tkernel: rbf\n",
      "\tC: 10\n",
      "\tgamma: scale\n"
     ]
    }
   ],
   "source": [
    "print(f'Best Score: {grid_search.best_score_}')\n",
    "\n",
    "best_params = grid_search.best_estimator_.get_params()\n",
    "print(f'Best Parameters:')\n",
    "for param in parameters:\n",
    "    print(f'\\t{param}: {best_params[param]}')"
   ]
  },
  {
   "cell_type": "markdown",
   "metadata": {},
   "source": [
    "### Predict and Evaluate"
   ]
  },
  {
   "cell_type": "code",
   "execution_count": 12,
   "metadata": {},
   "outputs": [
    {
     "name": "stdout",
     "output_type": "stream",
     "text": [
      "              precision    recall  f1-score   support\n",
      "\n",
      "           0       0.95      0.97      0.96      6806\n",
      "           1       0.96      0.97      0.97      7761\n",
      "           2       0.90      0.93      0.91      6891\n",
      "           3       0.92      0.84      0.88      7048\n",
      "           4       0.92      0.91      0.91      6719\n",
      "           5       0.86      0.90      0.88      6221\n",
      "           6       0.95      0.94      0.94      6782\n",
      "           7       0.92      0.92      0.92      7176\n",
      "           8       0.91      0.85      0.88      6738\n",
      "           9       0.85      0.90      0.88      6858\n",
      "\n",
      "    accuracy                           0.91     69000\n",
      "   macro avg       0.91      0.91      0.91     69000\n",
      "weighted avg       0.91      0.91      0.91     69000\n",
      "\n"
     ]
    }
   ],
   "source": [
    "y_pred = grid_search.predict(X_test)\n",
    "\n",
    "print(classification_report(y_test, y_pred))"
   ]
  }
 ],
 "metadata": {
  "kernelspec": {
   "display_name": "Python 3",
   "language": "python",
   "name": "python3"
  },
  "language_info": {
   "codemirror_mode": {
    "name": "ipython",
    "version": 3
   },
   "file_extension": ".py",
   "mimetype": "text/x-python",
   "name": "python",
   "nbconvert_exporter": "python",
   "pygments_lexer": "ipython3",
   "version": "3.7.6"
  }
 },
 "nbformat": 4,
 "nbformat_minor": 5
}

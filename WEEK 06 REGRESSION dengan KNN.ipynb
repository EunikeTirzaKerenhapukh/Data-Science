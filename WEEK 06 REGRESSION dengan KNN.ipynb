{
 "cells": [
  {
   "cell_type": "markdown",
   "id": "structural-harvard",
   "metadata": {},
   "source": [
    "# REGRESSION dengan KNN (K Nearest Neighbours)"
   ]
  },
  {
   "cell_type": "markdown",
   "id": "funny-geography",
   "metadata": {},
   "source": [
    "Sumber : \n",
    "- https://www.youtube.com/watch?v=W8adIcfv16M&ab_channel=IndonesiaBelajar"
   ]
  },
  {
   "cell_type": "markdown",
   "id": "major-explanation",
   "metadata": {},
   "source": [
    "- KNN adalah model machine learning yang dapat digunakan untuk melakukan prediksi berdasarkan kedekatan karakteristik dengan sejumlah tetangga terdekat\n",
    "- Prediksi yang dilakukan dapat diterapkan baik pada classification maupun regression task \n",
    "- Regression dengan KNN berguna untuk melakukan estimasi nilai, dimana pada kasus ini adalah estimasi nilai berat badan "
   ]
  },
  {
   "cell_type": "markdown",
   "id": "automotive-hartford",
   "metadata": {},
   "source": [
    "## SAMPLE DATASET"
   ]
  },
  {
   "cell_type": "markdown",
   "id": "capital-spirit",
   "metadata": {},
   "source": [
    "Kita akan menggunakan sample dataset sebelumnya yaitu pada classification dengan KNN. Disini terdapat variable 'sensus' yang terdiri dari data-data tinggi, gender/jenis kelamin dan berat badan. Kemudian variable 'sensus' ini menjadi dasar pembentukan pandas dataframe. Objek dataframe ini akan ditampung ke dalam variable 'sensus_df'. Dalam sesi ini kita akan membentuk machine learning sederhana yang dapat digunakan untuk memprediksi berat badan seseorang berdasarkan tinggi dan jenis kelaminnya. Tinggi dan gender akan berperan sebagai features, dan berat akan berperan sebagai target."
   ]
  },
  {
   "cell_type": "code",
   "execution_count": 26,
   "id": "found-vietnamese",
   "metadata": {},
   "outputs": [
    {
     "data": {
      "text/html": [
       "<div>\n",
       "<style scoped>\n",
       "    .dataframe tbody tr th:only-of-type {\n",
       "        vertical-align: middle;\n",
       "    }\n",
       "\n",
       "    .dataframe tbody tr th {\n",
       "        vertical-align: top;\n",
       "    }\n",
       "\n",
       "    .dataframe thead th {\n",
       "        text-align: right;\n",
       "    }\n",
       "</style>\n",
       "<table border=\"1\" class=\"dataframe\">\n",
       "  <thead>\n",
       "    <tr style=\"text-align: right;\">\n",
       "      <th></th>\n",
       "      <th>tinggi</th>\n",
       "      <th>gender</th>\n",
       "      <th>berat</th>\n",
       "    </tr>\n",
       "  </thead>\n",
       "  <tbody>\n",
       "    <tr>\n",
       "      <th>0</th>\n",
       "      <td>158</td>\n",
       "      <td>pria</td>\n",
       "      <td>64</td>\n",
       "    </tr>\n",
       "    <tr>\n",
       "      <th>1</th>\n",
       "      <td>170</td>\n",
       "      <td>pria</td>\n",
       "      <td>86</td>\n",
       "    </tr>\n",
       "    <tr>\n",
       "      <th>2</th>\n",
       "      <td>183</td>\n",
       "      <td>pria</td>\n",
       "      <td>84</td>\n",
       "    </tr>\n",
       "    <tr>\n",
       "      <th>3</th>\n",
       "      <td>191</td>\n",
       "      <td>pria</td>\n",
       "      <td>80</td>\n",
       "    </tr>\n",
       "    <tr>\n",
       "      <th>4</th>\n",
       "      <td>155</td>\n",
       "      <td>wanita</td>\n",
       "      <td>49</td>\n",
       "    </tr>\n",
       "    <tr>\n",
       "      <th>5</th>\n",
       "      <td>163</td>\n",
       "      <td>wanita</td>\n",
       "      <td>59</td>\n",
       "    </tr>\n",
       "    <tr>\n",
       "      <th>6</th>\n",
       "      <td>180</td>\n",
       "      <td>wanita</td>\n",
       "      <td>67</td>\n",
       "    </tr>\n",
       "    <tr>\n",
       "      <th>7</th>\n",
       "      <td>158</td>\n",
       "      <td>wanita</td>\n",
       "      <td>54</td>\n",
       "    </tr>\n",
       "    <tr>\n",
       "      <th>8</th>\n",
       "      <td>170</td>\n",
       "      <td>wanita</td>\n",
       "      <td>67</td>\n",
       "    </tr>\n",
       "  </tbody>\n",
       "</table>\n",
       "</div>"
      ],
      "text/plain": [
       "   tinggi  gender  berat\n",
       "0     158    pria     64\n",
       "1     170    pria     86\n",
       "2     183    pria     84\n",
       "3     191    pria     80\n",
       "4     155  wanita     49\n",
       "5     163  wanita     59\n",
       "6     180  wanita     67\n",
       "7     158  wanita     54\n",
       "8     170  wanita     67"
      ]
     },
     "execution_count": 26,
     "metadata": {},
     "output_type": "execute_result"
    }
   ],
   "source": [
    "import pandas as pd\n",
    "\n",
    "sensus = {'tinggi':[158,170,183,191,155,163,180,158,170],\n",
    "         'gender': ['pria','pria','pria','pria','wanita','wanita','wanita','wanita','wanita'],\n",
    "         'berat': [64,86,84,80,49,59,67,54,67]}\n",
    "sensus_df=pd.DataFrame(sensus)\n",
    "sensus_df"
   ]
  },
  {
   "cell_type": "markdown",
   "id": "dedicated-switzerland",
   "metadata": {},
   "source": [
    "## FEATURES & TARGET"
   ]
  },
  {
   "cell_type": "markdown",
   "id": "exotic-democracy",
   "metadata": {},
   "source": [
    "Pada tahap ini kita akan mentraining model dan mengumpulkan sekumpulan nilai features dan nilai target. Data tinggi dan gender akan dikonversikan menjadi numpy array dan akan ditampung dalam variable 'X_train' sebagai sekumpulan features. Kemudian untuk data berat badan akan dikonversikan ke dalam numpy array dan akan ditampung ke dalam variabel 'y_train' sebagai sekumpulan nilai target. "
   ]
  },
  {
   "cell_type": "code",
   "execution_count": 27,
   "id": "exempt-angola",
   "metadata": {},
   "outputs": [
    {
     "name": "stdout",
     "output_type": "stream",
     "text": [
      "X_train:\n",
      "[[158 'pria']\n",
      " [170 'pria']\n",
      " [183 'pria']\n",
      " [191 'pria']\n",
      " [155 'wanita']\n",
      " [163 'wanita']\n",
      " [180 'wanita']\n",
      " [158 'wanita']\n",
      " [170 'wanita']]\n",
      "\n",
      "y_train:[64 86 84 80 49 59 67 54 67]\n"
     ]
    }
   ],
   "source": [
    "import numpy as np\n",
    "\n",
    "X_train = np.array(sensus_df[['tinggi','gender']])\n",
    "y_train = np.array(sensus_df['berat'])\n",
    "\n",
    "print(f'X_train:\\n{X_train}\\n')\n",
    "print(f'y_train:{y_train}')"
   ]
  },
  {
   "cell_type": "markdown",
   "id": "guilty-westminster",
   "metadata": {},
   "source": [
    "## PREPROCESS DATASET : KONVERSI LABEL menjadi NUMERIK BINER"
   ]
  },
  {
   "cell_type": "markdown",
   "id": "naval-fundamentals",
   "metadata": {},
   "source": [
    "Pada tahap ini kita akan demokan tahapan preprocessing untuk mengkonversi nilai pria dan wanita menjadi numerik biner dan satu. \n",
    "- Melakukan transpose pada 'X_train', transpose ini berguna untuk mengubah posisi baris menjadi kolom, dan posisi kolom menjadi baris. Kolom pertama adalah merupakan data tinggi dan kolom kedua adalah gender, kemudian kita akan mengubah bentuk kolom ini menjadi baris.\n",
    "- Pada output terdapat perubahan antara X_train sebelumnya dan X_train_tranposed."
   ]
  },
  {
   "cell_type": "code",
   "execution_count": 28,
   "id": "tight-excuse",
   "metadata": {},
   "outputs": [
    {
     "name": "stdout",
     "output_type": "stream",
     "text": [
      "X_train:\n",
      "[[158 'pria']\n",
      " [170 'pria']\n",
      " [183 'pria']\n",
      " [191 'pria']\n",
      " [155 'wanita']\n",
      " [163 'wanita']\n",
      " [180 'wanita']\n",
      " [158 'wanita']\n",
      " [170 'wanita']]\n",
      "\n",
      "X_train_transposed:\n",
      "[[158 170 183 191 155 163 180 158 170]\n",
      " ['pria' 'pria' 'pria' 'pria' 'wanita' 'wanita' 'wanita' 'wanita'\n",
      "  'wanita']]\n"
     ]
    }
   ],
   "source": [
    "X_train_transposed = np.transpose(X_train)\n",
    "\n",
    "print(f'X_train:\\n{X_train}\\n')\n",
    "print(f'X_train_transposed:\\n{X_train_transposed}')"
   ]
  },
  {
   "cell_type": "markdown",
   "id": "upset-gothic",
   "metadata": {},
   "source": [
    "Kita menggunakan Label Binarizer untuk mengkonversi nilai pria dan wanita menjadi 0 dan 1.Pada output dapat terlihat pada variable 'jk_binarised' bahwa pria sudah berubah menjadi nilai 0 dan wanita sudah berubah menjadi nilai 1. "
   ]
  },
  {
   "cell_type": "code",
   "execution_count": 29,
   "id": "solved-enough",
   "metadata": {},
   "outputs": [
    {
     "name": "stdout",
     "output_type": "stream",
     "text": [
      "jk:['pria' 'pria' 'pria' 'pria' 'wanita' 'wanita' 'wanita' 'wanita' 'wanita']\n",
      "\n",
      "jk_binarised:\n",
      "[[0]\n",
      " [0]\n",
      " [0]\n",
      " [0]\n",
      " [1]\n",
      " [1]\n",
      " [1]\n",
      " [1]\n",
      " [1]]\n"
     ]
    }
   ],
   "source": [
    "from sklearn.preprocessing import LabelBinarizer\n",
    "\n",
    "lb = LabelBinarizer()\n",
    "jk_binarised = lb.fit_transform(X_train_transposed[1])\n",
    "\n",
    "print(f'jk:{X_train_transposed[1]}\\n')\n",
    "print(f'jk_binarised:\\n{jk_binarised}')"
   ]
  },
  {
   "cell_type": "markdown",
   "id": "banned-bangladesh",
   "metadata": {},
   "source": [
    "Kemudian langkah selanjutnya adalah memflattenkan variable 'jk_binarised' agar menjadi 1 dimensi"
   ]
  },
  {
   "cell_type": "code",
   "execution_count": 30,
   "id": "trained-motel",
   "metadata": {},
   "outputs": [
    {
     "data": {
      "text/plain": [
       "array([0, 0, 0, 0, 1, 1, 1, 1, 1])"
      ]
     },
     "execution_count": 30,
     "metadata": {},
     "output_type": "execute_result"
    }
   ],
   "source": [
    "jk_binarised = jk_binarised.flatten()\n",
    "jk_binarised"
   ]
  },
  {
   "cell_type": "code",
   "execution_count": 31,
   "id": "synthetic-playlist",
   "metadata": {},
   "outputs": [
    {
     "name": "stdout",
     "output_type": "stream",
     "text": [
      "X_train_transposed:\n",
      "[[158 170 183 191 155 163 180 158 170]\n",
      " [0 0 0 0 1 1 1 1 1]]\n",
      "\n",
      "X_train:\n",
      "[[158 0]\n",
      " [170 0]\n",
      " [183 0]\n",
      " [191 0]\n",
      " [155 1]\n",
      " [163 1]\n",
      " [180 1]\n",
      " [158 1]\n",
      " [170 1]]\n"
     ]
    }
   ],
   "source": [
    "X_train_transposed[1] = jk_binarised\n",
    "X_train = X_train_transposed.transpose()\n",
    "\n",
    "print(f'X_train_transposed:\\n{X_train_transposed}\\n')\n",
    "print(f'X_train:\\n{X_train}')"
   ]
  },
  {
   "cell_type": "markdown",
   "id": "eastern-direction",
   "metadata": {},
   "source": [
    "## TRAINING KKN REGRESSION MODEL"
   ]
  },
  {
   "cell_type": "markdown",
   "id": "balanced-invitation",
   "metadata": {},
   "source": [
    "Setelah training setnya sudah disiapkan, maka pada tahap ini adalah melakukan training model dengan menggunakan KNN. \n",
    "- Mengimport KneighborsRegressor\n",
    "- Kemudian menentukan nilai K yang berkolerasi dengan banyaknya tetangga yang akan digunakan untuk melakukan proses prediksi, dimana K = 3.\n",
    "- Membentuk objek model\n",
    "- Selanjutnya adalah melakukan training model"
   ]
  },
  {
   "cell_type": "code",
   "execution_count": 32,
   "id": "impossible-gazette",
   "metadata": {},
   "outputs": [
    {
     "data": {
      "text/plain": [
       "KNeighborsRegressor(n_neighbors=3)"
      ]
     },
     "execution_count": 32,
     "metadata": {},
     "output_type": "execute_result"
    }
   ],
   "source": [
    "from sklearn.neighbors import KNeighborsRegressor\n",
    "\n",
    "K = 3\n",
    "model = KNeighborsRegressor(n_neighbors=K)\n",
    "model.fit(X_train, y_train)"
   ]
  },
  {
   "cell_type": "markdown",
   "id": "german-airline",
   "metadata": {},
   "source": [
    "## PREDIKSI BERAT BADAN"
   ]
  },
  {
   "cell_type": "markdown",
   "id": "together-costs",
   "metadata": {},
   "source": [
    "Setelah KNN regressor ditraining maka kita akan menggunakan trained model tersebut untuk memprediksi nilai berat badan berdasarkan data tinggi dan jenis kelamin. \n",
    "- Menyiapkan data baru dimana tinggi badannya adalah 155 dan gendernya adalah wanita, kemudian dikonversi menjadi array 2 dimensi yang ditampung kedalam variable 'X_new'\n",
    "- Kemudian lakukan prediksi berat badan dengan menggunakan KNN regressor yang telah ditraining sebelumnya, dengan memanggil model.predict dimana parameternya adalah 'X_new'\n"
   ]
  },
  {
   "cell_type": "code",
   "execution_count": 33,
   "id": "standing-cooperative",
   "metadata": {},
   "outputs": [
    {
     "data": {
      "text/plain": [
       "array([[155,   1]])"
      ]
     },
     "execution_count": 33,
     "metadata": {},
     "output_type": "execute_result"
    }
   ],
   "source": [
    "X_new = np.array([[155,1]])\n",
    "X_new"
   ]
  },
  {
   "cell_type": "code",
   "execution_count": 34,
   "id": "fatty-graham",
   "metadata": {},
   "outputs": [
    {
     "data": {
      "text/plain": [
       "array([55.66666667])"
      ]
     },
     "execution_count": 34,
     "metadata": {},
     "output_type": "execute_result"
    }
   ],
   "source": [
    "y_pred = model.predict(X_new)\n",
    "y_pred"
   ]
  },
  {
   "cell_type": "markdown",
   "id": "charitable-spiritual",
   "metadata": {},
   "source": [
    "## EVALUASI KNN REGRESSION MODEL "
   ]
  },
  {
   "cell_type": "markdown",
   "id": "modular-winner",
   "metadata": {},
   "source": [
    "- Pada tahap ini kita menyiapkan testing setnya yang terdiri dari 4 data point. 4 data point ini merupakan sekumpulan data features yang di tampung dalam variable 'X_test'. Kemudian menyiapkan data target yang ditampung dalam variable 'y_pred' untuk testing set."
   ]
  },
  {
   "cell_type": "code",
   "execution_count": 35,
   "id": "compliant-lawyer",
   "metadata": {},
   "outputs": [
    {
     "name": "stdout",
     "output_type": "stream",
     "text": [
      "X_test:\n",
      "[[168   0]\n",
      " [180   0]\n",
      " [160   0]\n",
      " [169   1]]\n",
      "\n",
      "y_test:[65 96 52 67]\n"
     ]
    }
   ],
   "source": [
    "X_test = np.array([[168,0],[180,0],[160,0],[169,1]])\n",
    "y_test = np.array([65,96,52,67])\n",
    "\n",
    "print(f'X_test:\\n{X_test}\\n')\n",
    "print(f'y_test:{y_test}')"
   ]
  },
  {
   "cell_type": "markdown",
   "id": "improved-moderator",
   "metadata": {},
   "source": [
    "Melakukan prediksi pada X_test yang hasil prediksinya ditampung dalam variable 'y_pred'"
   ]
  },
  {
   "cell_type": "code",
   "execution_count": 36,
   "id": "oriented-trail",
   "metadata": {},
   "outputs": [
    {
     "data": {
      "text/plain": [
       "array([70.66666667, 79.        , 59.        , 70.66666667])"
      ]
     },
     "execution_count": 36,
     "metadata": {},
     "output_type": "execute_result"
    }
   ],
   "source": [
    "y_pred = model.predict(X_test)\n",
    "y_pred"
   ]
  },
  {
   "cell_type": "markdown",
   "id": "saving-commission",
   "metadata": {},
   "source": [
    "## COEFFICIENT of DETERMINATION "
   ]
  },
  {
   "cell_type": "markdown",
   "id": "static-things",
   "metadata": {},
   "source": [
    "Tahapan menggunakan R square semakin mendekati 1 maka akan semakin baik, jika mendekati 0 berarti model akan semakin buruk."
   ]
  },
  {
   "cell_type": "code",
   "execution_count": 37,
   "id": "municipal-treaty",
   "metadata": {},
   "outputs": [
    {
     "name": "stdout",
     "output_type": "stream",
     "text": [
      "R-squared: 0.6290565226735438\n"
     ]
    }
   ],
   "source": [
    "from sklearn.metrics import r2_score\n",
    "\n",
    "r_squared = r2_score(y_test, y_pred)\n",
    "\n",
    "print(f'R-squared: {r_squared}')"
   ]
  },
  {
   "cell_type": "markdown",
   "id": "downtown-breach",
   "metadata": {},
   "source": [
    "## MEAN ABSOLUTE ERROR (MAE) atau MEAN ABSOLUTE DEVIATION (MAD)"
   ]
  },
  {
   "cell_type": "markdown",
   "id": "streaming-pound",
   "metadata": {},
   "source": [
    "MAE adalah nilai rata-rata dari absolute error dari prediksi. "
   ]
  },
  {
   "cell_type": "code",
   "execution_count": 38,
   "id": "refined-collins",
   "metadata": {},
   "outputs": [
    {
     "name": "stdout",
     "output_type": "stream",
     "text": [
      "MAE:8.333333333333336\n"
     ]
    }
   ],
   "source": [
    "from sklearn.metrics import mean_absolute_error\n",
    "\n",
    "MAE = mean_absolute_error(y_test,y_pred)\n",
    "\n",
    "print(f'MAE:{MAE}')"
   ]
  },
  {
   "cell_type": "markdown",
   "id": "authentic-nutrition",
   "metadata": {},
   "source": [
    "## MEAN SQUARED ERROR (MSE) atau MEAN SQUARED DEVIATION (MSD)"
   ]
  },
  {
   "cell_type": "markdown",
   "id": "detailed-mattress",
   "metadata": {},
   "source": [
    "MSE adalah nilai rata-rata dari error kuadrat untuk prediksi"
   ]
  },
  {
   "cell_type": "code",
   "execution_count": 39,
   "id": "round-librarian",
   "metadata": {},
   "outputs": [
    {
     "name": "stdout",
     "output_type": "stream",
     "text": [
      "MSE: 95.8888888888889\n"
     ]
    }
   ],
   "source": [
    "from sklearn.metrics import mean_squared_error\n",
    "\n",
    "MSE = mean_squared_error(y_test,y_pred)\n",
    "\n",
    "print(f'MSE: {MSE}')"
   ]
  },
  {
   "cell_type": "markdown",
   "id": "naked-angle",
   "metadata": {},
   "source": [
    "## PERMASALAHAN SCALLING pada FEATURES"
   ]
  },
  {
   "cell_type": "markdown",
   "id": "unusual-allah",
   "metadata": {},
   "source": [
    "Dataset memiliki 2 features yaitu tinggi badan dan jenis kelamin. Tinggi badan direpresentasikan dalam cm dan jenis kelamin direpresentasikan dalam bentuk bilangan biner yaitu 1 dan 0. Pada tahap ini kita akan belajar apakah perbedaan satuan pengukuran ini akan berdampak pada konsistensi hasil euclidean distancenya. "
   ]
  },
  {
   "cell_type": "markdown",
   "id": "worthy-worry",
   "metadata": {},
   "source": [
    "EKSPERIMENT 1 : MENGGUNAKAN MILIMETER\n",
    "- menyiapkan dataset yaitu X_train yang berisi sekumpulan nilai features untuk training set dan X_new sekumpulan nilai features untuk data point yang akan diprediksi. Tinggi badannya dalam milimeter\n",
    "- Kemudian menggunakan euclidean untuk mengukur jarak pada data point yang baru terhadap 2 data point pada training setnya."
   ]
  },
  {
   "cell_type": "code",
   "execution_count": 40,
   "id": "interior-helen",
   "metadata": {},
   "outputs": [
    {
     "data": {
      "text/plain": [
       "[60.0, 40.01249804748511]"
      ]
     },
     "execution_count": 40,
     "metadata": {},
     "output_type": "execute_result"
    }
   ],
   "source": [
    "from scipy.spatial.distance import euclidean\n",
    "\n",
    "# tinggi dalam milimeter\n",
    "X_train = np.array([[1700,0],[1600,1]])\n",
    "X_new = np.array([[1640,0]])\n",
    "\n",
    "[euclidean(X_new[0],d) for d in X_train]"
   ]
  },
  {
   "cell_type": "markdown",
   "id": "wanted-louisiana",
   "metadata": {},
   "source": [
    "EKSPERIMENT 2 : MENGGUNAKAN METER \n",
    "- Tinggi badannya dalam meter."
   ]
  },
  {
   "cell_type": "code",
   "execution_count": 41,
   "id": "reported-infrastructure",
   "metadata": {},
   "outputs": [
    {
     "data": {
      "text/plain": [
       "[0.06000000000000005, 1.0007996802557444]"
      ]
     },
     "execution_count": 41,
     "metadata": {},
     "output_type": "execute_result"
    }
   ],
   "source": [
    "# tinggi dalam meter\n",
    "X_train = np.array([[1.7,0],[1.6,1]])\n",
    "X_new = np.array([[1.64,0]])\n",
    "\n",
    "[euclidean(X_new[0],d) for d in X_train]"
   ]
  },
  {
   "cell_type": "markdown",
   "id": "distinct-copying",
   "metadata": {},
   "source": [
    "## MENERAPKAN STANDARD SCALER (STANDARD SCORE atau Z-SCORE)"
   ]
  },
  {
   "cell_type": "markdown",
   "id": "lovely-insertion",
   "metadata": {},
   "source": [
    "Z-score adalah standarisasi fitur dengan menghilangkan mean dan menskalakan ke unit varians"
   ]
  },
  {
   "cell_type": "code",
   "execution_count": 42,
   "id": "institutional-squad",
   "metadata": {},
   "outputs": [],
   "source": [
    "from sklearn.preprocessing import StandardScaler\n",
    "\n",
    "ss = StandardScaler()"
   ]
  },
  {
   "cell_type": "code",
   "execution_count": 43,
   "id": "found-medicine",
   "metadata": {},
   "outputs": [
    {
     "name": "stdout",
     "output_type": "stream",
     "text": [
      "X_train_scaled:\n",
      "[[ 1. -1.]\n",
      " [-1.  1.]]\n",
      "\n",
      "X_new_scaled: [[-0.2 -1. ]]\n",
      "\n",
      "jarak:[1.2, 2.154065922853802]\n"
     ]
    }
   ],
   "source": [
    "# tinggi dalam milimeter\n",
    "X_train = np.array([[1700,0],[1600,1]])\n",
    "X_train_scaled = ss.fit_transform(X_train)\n",
    "print(f'X_train_scaled:\\n{X_train_scaled}\\n')\n",
    "\n",
    "X_new = np.array([[1640,0]])\n",
    "X_new_scaled = ss.transform(X_new)\n",
    "print(f'X_new_scaled: {X_new_scaled}\\n')\n",
    "\n",
    "jarak = [euclidean(X_new_scaled[0],d) for d in X_train_scaled]\n",
    "print(f'jarak:{jarak}')"
   ]
  },
  {
   "cell_type": "code",
   "execution_count": 44,
   "id": "entertaining-stretch",
   "metadata": {},
   "outputs": [
    {
     "name": "stdout",
     "output_type": "stream",
     "text": [
      "X_train_scaled:\n",
      "[[ 1. -1.]\n",
      " [-1.  1.]]\n",
      "\n",
      "X_new_scaled: [[-0.2 -1. ]]\n",
      "\n",
      "jarak:[1.2000000000000026, 2.1540659228538006]\n"
     ]
    }
   ],
   "source": [
    "# tinggi dalam meter\n",
    "X_train = np.array([[1.7,0],[1.6,1]])\n",
    "X_train_scaled = ss.fit_transform(X_train)\n",
    "print(f'X_train_scaled:\\n{X_train_scaled}\\n')\n",
    "\n",
    "X_new = np.array([[1.64,0]])\n",
    "X_new_scaled = ss.transform(X_new)\n",
    "print(f'X_new_scaled: {X_new_scaled}\\n')\n",
    "\n",
    "jarak = [euclidean(X_new_scaled[0],d) for d in X_train_scaled]\n",
    "print(f'jarak:{jarak}')"
   ]
  },
  {
   "cell_type": "markdown",
   "id": "elegant-rwanda",
   "metadata": {},
   "source": [
    "## MENERAPKAN FEATURES SCALLING PADA KNN"
   ]
  },
  {
   "cell_type": "markdown",
   "id": "extra-bulletin",
   "metadata": {},
   "source": [
    "### Dataset"
   ]
  },
  {
   "cell_type": "code",
   "execution_count": 45,
   "id": "helpful-julian",
   "metadata": {},
   "outputs": [],
   "source": [
    "# Training Set\n",
    "X_train = np.array([[158,0],[170,0],[183,0],[191,0],[155,1],[163,1],\n",
    "                    [180,1],[158,1],[170,1]])\n",
    "\n",
    "y_train = np.array([64,86,84,80,49,59,67,54,67])\n",
    "\n",
    "# Test Set\n",
    "X_test = np.array([[168,0],[180,0],[160,1],[169,1]])\n",
    "y_test = np.array([65,96,52,67])"
   ]
  },
  {
   "cell_type": "markdown",
   "id": "crucial-banks",
   "metadata": {},
   "source": [
    "### Features Scalling (Standard Scaler)"
   ]
  },
  {
   "cell_type": "code",
   "execution_count": 46,
   "id": "stretch-declaration",
   "metadata": {},
   "outputs": [
    {
     "name": "stdout",
     "output_type": "stream",
     "text": [
      "X_train_scaled:\n",
      "[[-0.9908706  -1.11803399]\n",
      " [ 0.01869567 -1.11803399]\n",
      " [ 1.11239246 -1.11803399]\n",
      " [ 1.78543664 -1.11803399]\n",
      " [-1.24326216  0.89442719]\n",
      " [-0.57021798  0.89442719]\n",
      " [ 0.86000089  0.89442719]\n",
      " [-0.9908706   0.89442719]\n",
      " [ 0.01869567  0.89442719]]\n",
      "\n",
      "X_test_scaled:\n",
      "[[-0.14956537 -1.11803399]\n",
      " [ 0.86000089 -1.11803399]\n",
      " [-0.82260955  0.89442719]\n",
      " [-0.06543485  0.89442719]]\n",
      "\n"
     ]
    }
   ],
   "source": [
    "X_train_scaled = ss.fit_transform(X_train)\n",
    "X_test_scaled = ss.transform(X_test)\n",
    "\n",
    "print(f'X_train_scaled:\\n{X_train_scaled}\\n')\n",
    "print(f'X_test_scaled:\\n{X_test_scaled}\\n')"
   ]
  },
  {
   "cell_type": "markdown",
   "id": "variable-advocacy",
   "metadata": {},
   "source": [
    "### Training & Evaluasi Model "
   ]
  },
  {
   "cell_type": "code",
   "execution_count": 47,
   "id": "promising-puzzle",
   "metadata": {},
   "outputs": [
    {
     "name": "stdout",
     "output_type": "stream",
     "text": [
      "MAE: 7.583333333333336\n",
      "MSE: 85.13888888888893\n"
     ]
    }
   ],
   "source": [
    "model.fit(X_train_scaled, y_train)\n",
    "y_pred = model.predict(X_test_scaled)\n",
    "\n",
    "MAE = mean_absolute_error(y_test,y_pred)\n",
    "MSE = mean_squared_error(y_test, y_pred)\n",
    "\n",
    "print(f'MAE: {MAE}')\n",
    "print(f'MSE: {MSE}')"
   ]
  }
 ],
 "metadata": {
  "kernelspec": {
   "display_name": "Python 3",
   "language": "python",
   "name": "python3"
  },
  "language_info": {
   "codemirror_mode": {
    "name": "ipython",
    "version": 3
   },
   "file_extension": ".py",
   "mimetype": "text/x-python",
   "name": "python",
   "nbconvert_exporter": "python",
   "pygments_lexer": "ipython3",
   "version": "3.7.10"
  }
 },
 "nbformat": 4,
 "nbformat_minor": 5
}
